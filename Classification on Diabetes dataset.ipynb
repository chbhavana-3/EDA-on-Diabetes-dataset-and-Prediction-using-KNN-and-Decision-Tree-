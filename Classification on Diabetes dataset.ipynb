{
 "cells": [
  {
   "cell_type": "code",
   "execution_count": 345,
   "id": "14cbeb90",
   "metadata": {},
   "outputs": [],
   "source": [
    "import numpy as np\n",
    "import pandas as pd\n",
    "import seaborn as sns\n",
    "import matplotlib.pyplot as plt\n",
    "from sklearn.model_selection import train_test_split, cross_val_score\n",
    "from sklearn.preprocessing import MinMaxScaler\n",
    "from sklearn.neighbors import KNeighborsClassifier\n",
    "from sklearn.metrics import accuracy_score"
   ]
  },
  {
   "cell_type": "code",
   "execution_count": 346,
   "id": "da0582cb",
   "metadata": {},
   "outputs": [],
   "source": [
    "df = pd.read_csv(\"diabetes.csv\")"
   ]
  },
  {
   "cell_type": "code",
   "execution_count": 347,
   "id": "c9ddbf92",
   "metadata": {
    "scrolled": true
   },
   "outputs": [
    {
     "data": {
      "text/html": [
       "<div>\n",
       "<style scoped>\n",
       "    .dataframe tbody tr th:only-of-type {\n",
       "        vertical-align: middle;\n",
       "    }\n",
       "\n",
       "    .dataframe tbody tr th {\n",
       "        vertical-align: top;\n",
       "    }\n",
       "\n",
       "    .dataframe thead th {\n",
       "        text-align: right;\n",
       "    }\n",
       "</style>\n",
       "<table border=\"1\" class=\"dataframe\">\n",
       "  <thead>\n",
       "    <tr style=\"text-align: right;\">\n",
       "      <th></th>\n",
       "      <th>Pregnancies</th>\n",
       "      <th>Glucose</th>\n",
       "      <th>BloodPressure</th>\n",
       "      <th>SkinThickness</th>\n",
       "      <th>Insulin</th>\n",
       "      <th>BMI</th>\n",
       "      <th>DiabetesPedigreeFunction</th>\n",
       "      <th>Age</th>\n",
       "      <th>Outcome</th>\n",
       "    </tr>\n",
       "  </thead>\n",
       "  <tbody>\n",
       "    <tr>\n",
       "      <th>0</th>\n",
       "      <td>6</td>\n",
       "      <td>148</td>\n",
       "      <td>72</td>\n",
       "      <td>35</td>\n",
       "      <td>0</td>\n",
       "      <td>33.6</td>\n",
       "      <td>0.627</td>\n",
       "      <td>50</td>\n",
       "      <td>1</td>\n",
       "    </tr>\n",
       "    <tr>\n",
       "      <th>1</th>\n",
       "      <td>1</td>\n",
       "      <td>85</td>\n",
       "      <td>66</td>\n",
       "      <td>29</td>\n",
       "      <td>0</td>\n",
       "      <td>26.6</td>\n",
       "      <td>0.351</td>\n",
       "      <td>31</td>\n",
       "      <td>0</td>\n",
       "    </tr>\n",
       "    <tr>\n",
       "      <th>2</th>\n",
       "      <td>8</td>\n",
       "      <td>183</td>\n",
       "      <td>64</td>\n",
       "      <td>0</td>\n",
       "      <td>0</td>\n",
       "      <td>23.3</td>\n",
       "      <td>0.672</td>\n",
       "      <td>32</td>\n",
       "      <td>1</td>\n",
       "    </tr>\n",
       "    <tr>\n",
       "      <th>3</th>\n",
       "      <td>1</td>\n",
       "      <td>89</td>\n",
       "      <td>66</td>\n",
       "      <td>23</td>\n",
       "      <td>94</td>\n",
       "      <td>28.1</td>\n",
       "      <td>0.167</td>\n",
       "      <td>21</td>\n",
       "      <td>0</td>\n",
       "    </tr>\n",
       "    <tr>\n",
       "      <th>4</th>\n",
       "      <td>0</td>\n",
       "      <td>137</td>\n",
       "      <td>40</td>\n",
       "      <td>35</td>\n",
       "      <td>168</td>\n",
       "      <td>43.1</td>\n",
       "      <td>2.288</td>\n",
       "      <td>33</td>\n",
       "      <td>1</td>\n",
       "    </tr>\n",
       "  </tbody>\n",
       "</table>\n",
       "</div>"
      ],
      "text/plain": [
       "   Pregnancies  Glucose  BloodPressure  SkinThickness  Insulin   BMI  \\\n",
       "0            6      148             72             35        0  33.6   \n",
       "1            1       85             66             29        0  26.6   \n",
       "2            8      183             64              0        0  23.3   \n",
       "3            1       89             66             23       94  28.1   \n",
       "4            0      137             40             35      168  43.1   \n",
       "\n",
       "   DiabetesPedigreeFunction  Age  Outcome  \n",
       "0                     0.627   50        1  \n",
       "1                     0.351   31        0  \n",
       "2                     0.672   32        1  \n",
       "3                     0.167   21        0  \n",
       "4                     2.288   33        1  "
      ]
     },
     "execution_count": 347,
     "metadata": {},
     "output_type": "execute_result"
    }
   ],
   "source": [
    "df.head()"
   ]
  },
  {
   "cell_type": "code",
   "execution_count": 348,
   "id": "ccc19123",
   "metadata": {},
   "outputs": [],
   "source": [
    "# By default top 5 rows will be displayed"
   ]
  },
  {
   "cell_type": "code",
   "execution_count": 253,
   "id": "e026e4ac",
   "metadata": {
    "scrolled": true
   },
   "outputs": [
    {
     "data": {
      "text/html": [
       "<div>\n",
       "<style scoped>\n",
       "    .dataframe tbody tr th:only-of-type {\n",
       "        vertical-align: middle;\n",
       "    }\n",
       "\n",
       "    .dataframe tbody tr th {\n",
       "        vertical-align: top;\n",
       "    }\n",
       "\n",
       "    .dataframe thead th {\n",
       "        text-align: right;\n",
       "    }\n",
       "</style>\n",
       "<table border=\"1\" class=\"dataframe\">\n",
       "  <thead>\n",
       "    <tr style=\"text-align: right;\">\n",
       "      <th></th>\n",
       "      <th>Pregnancies</th>\n",
       "      <th>Glucose</th>\n",
       "      <th>BloodPressure</th>\n",
       "      <th>SkinThickness</th>\n",
       "      <th>Insulin</th>\n",
       "      <th>BMI</th>\n",
       "      <th>DiabetesPedigreeFunction</th>\n",
       "      <th>Age</th>\n",
       "      <th>Outcome</th>\n",
       "    </tr>\n",
       "  </thead>\n",
       "  <tbody>\n",
       "    <tr>\n",
       "      <th>763</th>\n",
       "      <td>10</td>\n",
       "      <td>101</td>\n",
       "      <td>76</td>\n",
       "      <td>48</td>\n",
       "      <td>180</td>\n",
       "      <td>32.9</td>\n",
       "      <td>0.171</td>\n",
       "      <td>63</td>\n",
       "      <td>0</td>\n",
       "    </tr>\n",
       "    <tr>\n",
       "      <th>764</th>\n",
       "      <td>2</td>\n",
       "      <td>122</td>\n",
       "      <td>70</td>\n",
       "      <td>27</td>\n",
       "      <td>0</td>\n",
       "      <td>36.8</td>\n",
       "      <td>0.340</td>\n",
       "      <td>27</td>\n",
       "      <td>0</td>\n",
       "    </tr>\n",
       "    <tr>\n",
       "      <th>765</th>\n",
       "      <td>5</td>\n",
       "      <td>121</td>\n",
       "      <td>72</td>\n",
       "      <td>23</td>\n",
       "      <td>112</td>\n",
       "      <td>26.2</td>\n",
       "      <td>0.245</td>\n",
       "      <td>30</td>\n",
       "      <td>0</td>\n",
       "    </tr>\n",
       "    <tr>\n",
       "      <th>766</th>\n",
       "      <td>1</td>\n",
       "      <td>126</td>\n",
       "      <td>60</td>\n",
       "      <td>0</td>\n",
       "      <td>0</td>\n",
       "      <td>30.1</td>\n",
       "      <td>0.349</td>\n",
       "      <td>47</td>\n",
       "      <td>1</td>\n",
       "    </tr>\n",
       "    <tr>\n",
       "      <th>767</th>\n",
       "      <td>1</td>\n",
       "      <td>93</td>\n",
       "      <td>70</td>\n",
       "      <td>31</td>\n",
       "      <td>0</td>\n",
       "      <td>30.4</td>\n",
       "      <td>0.315</td>\n",
       "      <td>23</td>\n",
       "      <td>0</td>\n",
       "    </tr>\n",
       "  </tbody>\n",
       "</table>\n",
       "</div>"
      ],
      "text/plain": [
       "     Pregnancies  Glucose  BloodPressure  SkinThickness  Insulin   BMI  \\\n",
       "763           10      101             76             48      180  32.9   \n",
       "764            2      122             70             27        0  36.8   \n",
       "765            5      121             72             23      112  26.2   \n",
       "766            1      126             60              0        0  30.1   \n",
       "767            1       93             70             31        0  30.4   \n",
       "\n",
       "     DiabetesPedigreeFunction  Age  Outcome  \n",
       "763                     0.171   63        0  \n",
       "764                     0.340   27        0  \n",
       "765                     0.245   30        0  \n",
       "766                     0.349   47        1  \n",
       "767                     0.315   23        0  "
      ]
     },
     "execution_count": 253,
     "metadata": {},
     "output_type": "execute_result"
    }
   ],
   "source": [
    "df.tail()"
   ]
  },
  {
   "cell_type": "code",
   "execution_count": 254,
   "id": "9dbcb5fb",
   "metadata": {},
   "outputs": [],
   "source": [
    "# by default bottom 5rows will be displayed"
   ]
  },
  {
   "cell_type": "code",
   "execution_count": 255,
   "id": "3a8c6339",
   "metadata": {
    "scrolled": true
   },
   "outputs": [
    {
     "data": {
      "text/plain": [
       "Pregnancies                   int64\n",
       "Glucose                       int64\n",
       "BloodPressure                 int64\n",
       "SkinThickness                 int64\n",
       "Insulin                       int64\n",
       "BMI                         float64\n",
       "DiabetesPedigreeFunction    float64\n",
       "Age                           int64\n",
       "Outcome                       int64\n",
       "dtype: object"
      ]
     },
     "execution_count": 255,
     "metadata": {},
     "output_type": "execute_result"
    }
   ],
   "source": [
    "df.dtypes"
   ]
  },
  {
   "cell_type": "code",
   "execution_count": 256,
   "id": "432ef960",
   "metadata": {},
   "outputs": [
    {
     "data": {
      "text/plain": [
       "Index(['Pregnancies', 'Glucose', 'BloodPressure', 'SkinThickness', 'Insulin',\n",
       "       'BMI', 'DiabetesPedigreeFunction', 'Age', 'Outcome'],\n",
       "      dtype='object')"
      ]
     },
     "execution_count": 256,
     "metadata": {},
     "output_type": "execute_result"
    }
   ],
   "source": [
    "df.columns #learning about the columns"
   ]
  },
  {
   "cell_type": "code",
   "execution_count": 257,
   "id": "18ddba59",
   "metadata": {},
   "outputs": [
    {
     "data": {
      "text/plain": [
       "(768, 9)"
      ]
     },
     "execution_count": 257,
     "metadata": {},
     "output_type": "execute_result"
    }
   ],
   "source": [
    "df.shape"
   ]
  },
  {
   "cell_type": "code",
   "execution_count": 258,
   "id": "96923437",
   "metadata": {},
   "outputs": [],
   "source": [
    "# there are 768 rows and 9 columns in the dataset"
   ]
  },
  {
   "cell_type": "code",
   "execution_count": 259,
   "id": "b2e504b9",
   "metadata": {
    "scrolled": true
   },
   "outputs": [
    {
     "name": "stdout",
     "output_type": "stream",
     "text": [
      "<class 'pandas.core.frame.DataFrame'>\n",
      "RangeIndex: 768 entries, 0 to 767\n",
      "Data columns (total 9 columns):\n",
      " #   Column                    Non-Null Count  Dtype  \n",
      "---  ------                    --------------  -----  \n",
      " 0   Pregnancies               768 non-null    int64  \n",
      " 1   Glucose                   768 non-null    int64  \n",
      " 2   BloodPressure             768 non-null    int64  \n",
      " 3   SkinThickness             768 non-null    int64  \n",
      " 4   Insulin                   768 non-null    int64  \n",
      " 5   BMI                       768 non-null    float64\n",
      " 6   DiabetesPedigreeFunction  768 non-null    float64\n",
      " 7   Age                       768 non-null    int64  \n",
      " 8   Outcome                   768 non-null    int64  \n",
      "dtypes: float64(2), int64(7)\n",
      "memory usage: 54.1 KB\n"
     ]
    }
   ],
   "source": [
    "df.info()"
   ]
  },
  {
   "cell_type": "code",
   "execution_count": 260,
   "id": "57423668",
   "metadata": {},
   "outputs": [],
   "source": [
    "# there are 768 non null values in data"
   ]
  },
  {
   "cell_type": "code",
   "execution_count": 261,
   "id": "946fe4e0",
   "metadata": {
    "scrolled": false
   },
   "outputs": [
    {
     "data": {
      "text/html": [
       "<div>\n",
       "<style scoped>\n",
       "    .dataframe tbody tr th:only-of-type {\n",
       "        vertical-align: middle;\n",
       "    }\n",
       "\n",
       "    .dataframe tbody tr th {\n",
       "        vertical-align: top;\n",
       "    }\n",
       "\n",
       "    .dataframe thead th {\n",
       "        text-align: right;\n",
       "    }\n",
       "</style>\n",
       "<table border=\"1\" class=\"dataframe\">\n",
       "  <thead>\n",
       "    <tr style=\"text-align: right;\">\n",
       "      <th></th>\n",
       "      <th>Pregnancies</th>\n",
       "      <th>Glucose</th>\n",
       "      <th>BloodPressure</th>\n",
       "      <th>SkinThickness</th>\n",
       "      <th>Insulin</th>\n",
       "      <th>BMI</th>\n",
       "      <th>DiabetesPedigreeFunction</th>\n",
       "      <th>Age</th>\n",
       "      <th>Outcome</th>\n",
       "    </tr>\n",
       "  </thead>\n",
       "  <tbody>\n",
       "    <tr>\n",
       "      <th>count</th>\n",
       "      <td>768.000000</td>\n",
       "      <td>768.000000</td>\n",
       "      <td>768.000000</td>\n",
       "      <td>768.000000</td>\n",
       "      <td>768.000000</td>\n",
       "      <td>768.000000</td>\n",
       "      <td>768.000000</td>\n",
       "      <td>768.000000</td>\n",
       "      <td>768.000000</td>\n",
       "    </tr>\n",
       "    <tr>\n",
       "      <th>mean</th>\n",
       "      <td>3.845052</td>\n",
       "      <td>120.894531</td>\n",
       "      <td>69.105469</td>\n",
       "      <td>20.536458</td>\n",
       "      <td>79.799479</td>\n",
       "      <td>31.992578</td>\n",
       "      <td>0.471876</td>\n",
       "      <td>33.240885</td>\n",
       "      <td>0.348958</td>\n",
       "    </tr>\n",
       "    <tr>\n",
       "      <th>std</th>\n",
       "      <td>3.369578</td>\n",
       "      <td>31.972618</td>\n",
       "      <td>19.355807</td>\n",
       "      <td>15.952218</td>\n",
       "      <td>115.244002</td>\n",
       "      <td>7.884160</td>\n",
       "      <td>0.331329</td>\n",
       "      <td>11.760232</td>\n",
       "      <td>0.476951</td>\n",
       "    </tr>\n",
       "    <tr>\n",
       "      <th>min</th>\n",
       "      <td>0.000000</td>\n",
       "      <td>0.000000</td>\n",
       "      <td>0.000000</td>\n",
       "      <td>0.000000</td>\n",
       "      <td>0.000000</td>\n",
       "      <td>0.000000</td>\n",
       "      <td>0.078000</td>\n",
       "      <td>21.000000</td>\n",
       "      <td>0.000000</td>\n",
       "    </tr>\n",
       "    <tr>\n",
       "      <th>25%</th>\n",
       "      <td>1.000000</td>\n",
       "      <td>99.000000</td>\n",
       "      <td>62.000000</td>\n",
       "      <td>0.000000</td>\n",
       "      <td>0.000000</td>\n",
       "      <td>27.300000</td>\n",
       "      <td>0.243750</td>\n",
       "      <td>24.000000</td>\n",
       "      <td>0.000000</td>\n",
       "    </tr>\n",
       "    <tr>\n",
       "      <th>50%</th>\n",
       "      <td>3.000000</td>\n",
       "      <td>117.000000</td>\n",
       "      <td>72.000000</td>\n",
       "      <td>23.000000</td>\n",
       "      <td>30.500000</td>\n",
       "      <td>32.000000</td>\n",
       "      <td>0.372500</td>\n",
       "      <td>29.000000</td>\n",
       "      <td>0.000000</td>\n",
       "    </tr>\n",
       "    <tr>\n",
       "      <th>75%</th>\n",
       "      <td>6.000000</td>\n",
       "      <td>140.250000</td>\n",
       "      <td>80.000000</td>\n",
       "      <td>32.000000</td>\n",
       "      <td>127.250000</td>\n",
       "      <td>36.600000</td>\n",
       "      <td>0.626250</td>\n",
       "      <td>41.000000</td>\n",
       "      <td>1.000000</td>\n",
       "    </tr>\n",
       "    <tr>\n",
       "      <th>max</th>\n",
       "      <td>17.000000</td>\n",
       "      <td>199.000000</td>\n",
       "      <td>122.000000</td>\n",
       "      <td>99.000000</td>\n",
       "      <td>846.000000</td>\n",
       "      <td>67.100000</td>\n",
       "      <td>2.420000</td>\n",
       "      <td>81.000000</td>\n",
       "      <td>1.000000</td>\n",
       "    </tr>\n",
       "  </tbody>\n",
       "</table>\n",
       "</div>"
      ],
      "text/plain": [
       "       Pregnancies     Glucose  BloodPressure  SkinThickness     Insulin  \\\n",
       "count   768.000000  768.000000     768.000000     768.000000  768.000000   \n",
       "mean      3.845052  120.894531      69.105469      20.536458   79.799479   \n",
       "std       3.369578   31.972618      19.355807      15.952218  115.244002   \n",
       "min       0.000000    0.000000       0.000000       0.000000    0.000000   \n",
       "25%       1.000000   99.000000      62.000000       0.000000    0.000000   \n",
       "50%       3.000000  117.000000      72.000000      23.000000   30.500000   \n",
       "75%       6.000000  140.250000      80.000000      32.000000  127.250000   \n",
       "max      17.000000  199.000000     122.000000      99.000000  846.000000   \n",
       "\n",
       "              BMI  DiabetesPedigreeFunction         Age     Outcome  \n",
       "count  768.000000                768.000000  768.000000  768.000000  \n",
       "mean    31.992578                  0.471876   33.240885    0.348958  \n",
       "std      7.884160                  0.331329   11.760232    0.476951  \n",
       "min      0.000000                  0.078000   21.000000    0.000000  \n",
       "25%     27.300000                  0.243750   24.000000    0.000000  \n",
       "50%     32.000000                  0.372500   29.000000    0.000000  \n",
       "75%     36.600000                  0.626250   41.000000    1.000000  \n",
       "max     67.100000                  2.420000   81.000000    1.000000  "
      ]
     },
     "execution_count": 261,
     "metadata": {},
     "output_type": "execute_result"
    }
   ],
   "source": [
    "# summary statistics of numerical column\n",
    "df.describe()"
   ]
  },
  {
   "cell_type": "code",
   "execution_count": 262,
   "id": "fe613e49",
   "metadata": {},
   "outputs": [],
   "source": [
    "# here we see that min value of glucose, BP, SkinThickness, Insulin, BMI is zero which is practically not possible\n",
    "# Hence in data cleaning, we have to replace them with median/mean value depending on the distribution\n",
    "# Also in the max column we can see insulin levels are 846, hence we have to treat outliers\n",
    "# Mean of age is 33.24\n",
    "# lower quartile Q1 for bmi is 27.30 and upper quartile is 36.60"
   ]
  },
  {
   "cell_type": "code",
   "execution_count": 263,
   "id": "6ded7dff",
   "metadata": {
    "scrolled": true
   },
   "outputs": [
    {
     "data": {
      "text/plain": [
       "Pregnancies                 0\n",
       "Glucose                     0\n",
       "BloodPressure               0\n",
       "SkinThickness               0\n",
       "Insulin                     0\n",
       "BMI                         0\n",
       "DiabetesPedigreeFunction    0\n",
       "Age                         0\n",
       "Outcome                     0\n",
       "dtype: int64"
      ]
     },
     "execution_count": 263,
     "metadata": {},
     "output_type": "execute_result"
    }
   ],
   "source": [
    "df.isnull().sum() # checking for null values"
   ]
  },
  {
   "cell_type": "code",
   "execution_count": 264,
   "id": "d86013d2",
   "metadata": {},
   "outputs": [],
   "source": [
    "# There are no null values in data"
   ]
  },
  {
   "cell_type": "code",
   "execution_count": 265,
   "id": "a62879fa",
   "metadata": {
    "scrolled": false
   },
   "outputs": [
    {
     "data": {
      "text/plain": [
       "0      33.6\n",
       "1      26.6\n",
       "2      23.3\n",
       "3      28.1\n",
       "4      43.1\n",
       "       ... \n",
       "763    32.9\n",
       "764    36.8\n",
       "765    26.2\n",
       "766    30.1\n",
       "767    30.4\n",
       "Name: BMI, Length: 768, dtype: float64"
      ]
     },
     "execution_count": 265,
     "metadata": {},
     "output_type": "execute_result"
    }
   ],
   "source": [
    "df[\"BMI\"]"
   ]
  },
  {
   "cell_type": "code",
   "execution_count": 351,
   "id": "a6f36f22",
   "metadata": {},
   "outputs": [
    {
     "data": {
      "text/plain": [
       "0    500\n",
       "1    268\n",
       "Name: Outcome, dtype: int64"
      ]
     },
     "execution_count": 351,
     "metadata": {},
     "output_type": "execute_result"
    }
   ],
   "source": [
    "df.Outcome.value_counts()"
   ]
  },
  {
   "cell_type": "code",
   "execution_count": 266,
   "id": "39247bb0",
   "metadata": {},
   "outputs": [
    {
     "name": "stdout",
     "output_type": "stream",
     "text": [
      "35\n",
      "5\n",
      "227\n",
      "374\n",
      "11\n"
     ]
    }
   ],
   "source": [
    "#checking for 0 values in 5 columns , Age and  DiabetesPedigreeFunction do not have have minimum value as 0 hence we need not replace any values\n",
    "#number of pregnancies as 0 is possible as observed in df.describe\n",
    "print(df[df['BloodPressure']==0].shape[0])\n",
    "print(df[df['Glucose']==0].shape[0])\n",
    "print(df[df['SkinThickness']==0].shape[0])\n",
    "print(df[df['Insulin']==0].shape[0])\n",
    "print(df[df['BMI']==0].shape[0])"
   ]
  },
  {
   "cell_type": "code",
   "execution_count": 267,
   "id": "eb49156a",
   "metadata": {},
   "outputs": [],
   "source": [
    "# This shows the count of zero in our columns"
   ]
  },
  {
   "cell_type": "code",
   "execution_count": 268,
   "id": "3faf7e6b",
   "metadata": {},
   "outputs": [],
   "source": [
    "# Data Visualisation"
   ]
  },
  {
   "cell_type": "code",
   "execution_count": 269,
   "id": "90043e87",
   "metadata": {
    "scrolled": false
   },
   "outputs": [
    {
     "data": {
      "image/png": "[encoded data removed]",
      "text/plain": [
       "<Figure size 1000x1000 with 9 Axes>"
      ]
     },
     "metadata": {},
     "output_type": "display_data"
    }
   ],
   "source": [
    "#histogram for each  feature\n",
    "df.hist(bins=10,figsize=(10,10))\n",
    "plt.show()\n"
   ]
  },
  {
   "cell_type": "code",
   "execution_count": 270,
   "id": "48d90506",
   "metadata": {
    "scrolled": true
   },
   "outputs": [],
   "source": [
    "# We see that Glucose and Blood Pressure are normally distributed rest others are skewed and have outliers"
   ]
  },
  {
   "cell_type": "code",
   "execution_count": 271,
   "id": "59c71036",
   "metadata": {
    "scrolled": true
   },
   "outputs": [
    {
     "data": {
      "text/plain": [
       "<Axes: xlabel='DiabetesPedigreeFunction'>"
      ]
     },
     "execution_count": 271,
     "metadata": {},
     "output_type": "execute_result"
    },
    {
     "data": {
      "image/png": "[encoded data removed]",
      "text/plain": [
       "<Figure size 1600x1200 with 8 Axes>"
      ]
     },
     "metadata": {},
     "output_type": "display_data"
    }
   ],
   "source": [
    "plt.figure(figsize=(16,12))\n",
    "sns.set_style(style='whitegrid')\n",
    "plt.subplot(3,3,1)\n",
    "sns.boxplot(x='Glucose',data=df)\n",
    "plt.subplot(3,3,2)\n",
    "sns.boxplot(x='BloodPressure',data=df)\n",
    "plt.subplot(3,3,3)\n",
    "sns.boxplot(x='Insulin',data=df)\n",
    "plt.subplot(3,3,4)\n",
    "sns.boxplot(x='BMI',data=df)\n",
    "plt.subplot(3,3,5)\n",
    "sns.boxplot(x='Age',data=df)\n",
    "plt.subplot(3,3,6)\n",
    "sns.boxplot(x='SkinThickness',data=df)\n",
    "plt.subplot(3,3,7)\n",
    "sns.boxplot(x='Pregnancies',data=df)\n",
    "plt.subplot(3,3,8)\n",
    "sns.boxplot(x='DiabetesPedigreeFunction',data=df)"
   ]
  },
  {
   "cell_type": "code",
   "execution_count": 272,
   "id": "7fefd0ca",
   "metadata": {},
   "outputs": [],
   "source": [
    "# We see that there are outliers in Blood pressure, BMI, Age, Pregnancies\n",
    "# There are alot of outliers in Insulin and DiabetesPedigreeFunction"
   ]
  },
  {
   "cell_type": "code",
   "execution_count": 273,
   "id": "0311ae48",
   "metadata": {
    "scrolled": false
   },
   "outputs": [
    {
     "data": {
      "text/plain": [
       "<Axes: xlabel='Outcome', ylabel='count'>"
      ]
     },
     "execution_count": 273,
     "metadata": {},
     "output_type": "execute_result"
    },
    {
     "data": {
      "image/png": "[encoded data removed]",
      "text/plain": [
       "<Figure size 640x480 with 1 Axes>"
      ]
     },
     "metadata": {},
     "output_type": "display_data"
    }
   ],
   "source": [
    "sns.countplot(x='Outcome', data=df)"
   ]
  },
  {
   "cell_type": "code",
   "execution_count": 274,
   "id": "a1cfac04",
   "metadata": {},
   "outputs": [],
   "source": [
    "# Here we see that the number of people having diabetes are less than that of people who doesn't ahve diabetes"
   ]
  },
  {
   "cell_type": "code",
   "execution_count": 275,
   "id": "cf0cfea5",
   "metadata": {},
   "outputs": [
    {
     "data": {
      "text/plain": [
       "(768, 9)"
      ]
     },
     "execution_count": 275,
     "metadata": {},
     "output_type": "execute_result"
    }
   ],
   "source": [
    "df.shape"
   ]
  },
  {
   "cell_type": "code",
   "execution_count": 276,
   "id": "7f982dd7",
   "metadata": {},
   "outputs": [],
   "source": [
    "#replacing 0 values with mean values if data is normally distributed and with median values if its a skewed distribution \n",
    "df['Glucose']=df['Glucose'].replace(0,df['Glucose'].mean())#normal distribution\n",
    "df['BloodPressure']=df['BloodPressure'].replace(0,df['BloodPressure'].mean())#normal distribution\n",
    "df['SkinThickness']=df['SkinThickness'].replace(0,df['SkinThickness'].median())#skewed distribution\n",
    "df['Insulin']=df['Insulin'].replace(0,df['Insulin'].median())#skewed distribution\n",
    "df['BMI']=df['BMI'].replace(0,df['BMI'].median())#skewed distribution"
   ]
  },
  {
   "cell_type": "code",
   "execution_count": 277,
   "id": "3ef1fe5b",
   "metadata": {
    "scrolled": false
   },
   "outputs": [
    {
     "data": {
      "text/plain": [
       "<Axes: >"
      ]
     },
     "execution_count": 277,
     "metadata": {},
     "output_type": "execute_result"
    },
    {
     "data": {
      "image/png": "[encoded data removed]",
      "text/plain": [
       "<Figure size 640x480 with 2 Axes>"
      ]
     },
     "metadata": {},
     "output_type": "display_data"
    }
   ],
   "source": [
    "corrmat=df.corr()\n",
    "sns.heatmap(corrmat, annot=True)"
   ]
  },
  {
   "cell_type": "code",
   "execution_count": 278,
   "id": "9fd3ac2e",
   "metadata": {},
   "outputs": [],
   "source": [
    "# We can observe that Glucose, BMI and Age are the most correlated with Outcome.\n",
    "# BloodPressure, Insulin, DiabetesPedigreeFunction are the least correlated\n"
   ]
  },
  {
   "cell_type": "markdown",
   "id": "7ad532c2",
   "metadata": {},
   "source": [
    "### Data Preprocessing"
   ]
  },
  {
   "cell_type": "code",
   "execution_count": 279,
   "id": "b6ee5266",
   "metadata": {},
   "outputs": [],
   "source": [
    "# Treating Outliers"
   ]
  },
  {
   "cell_type": "code",
   "execution_count": 280,
   "id": "24d6e574",
   "metadata": {},
   "outputs": [],
   "source": [
    "# outlier filter\n",
    "\n",
    "Q1 = df.quantile(0.25)\n",
    "Q3 = df.quantile(0.75)\n",
    "IQR = Q3 - Q1\n",
    "lower_bound = Q1 - 1.5 * IQR\n",
    "upper_bound = Q3 + 1.5 * IQR"
   ]
  },
  {
   "cell_type": "code",
   "execution_count": 281,
   "id": "96c66421",
   "metadata": {
    "scrolled": true
   },
   "outputs": [
    {
     "data": {
      "text/plain": [
       "Pregnancies                  -6.500\n",
       "Glucose                      39.000\n",
       "BloodPressure                40.000\n",
       "SkinThickness                 9.500\n",
       "Insulin                    -114.625\n",
       "BMI                          13.850\n",
       "DiabetesPedigreeFunction     -0.330\n",
       "Age                          -1.500\n",
       "Outcome                      -1.500\n",
       "dtype: float64"
      ]
     },
     "execution_count": 281,
     "metadata": {},
     "output_type": "execute_result"
    }
   ],
   "source": [
    "lower_bound"
   ]
  },
  {
   "cell_type": "code",
   "execution_count": 282,
   "id": "f07fac3d",
   "metadata": {},
   "outputs": [],
   "source": [
    "df = df[~((df < lower_bound) | (df > upper_bound)).any(axis=1)]"
   ]
  },
  {
   "cell_type": "code",
   "execution_count": 283,
   "id": "3d772ed5",
   "metadata": {},
   "outputs": [
    {
     "data": {
      "text/plain": [
       "(636, 9)"
      ]
     },
     "execution_count": 283,
     "metadata": {},
     "output_type": "execute_result"
    }
   ],
   "source": [
    "df.shape"
   ]
  },
  {
   "cell_type": "code",
   "execution_count": 284,
   "id": "3d75a34e",
   "metadata": {},
   "outputs": [],
   "source": [
    "Q1 = df.quantile(0.25)\n",
    "Q3 = df.quantile(0.75)\n",
    "IQR = Q3 - Q1\n",
    "lower_bound = Q1 - 1.5 * IQR\n",
    "upper_bound = Q3 + 1.5 * IQR"
   ]
  },
  {
   "cell_type": "code",
   "execution_count": 285,
   "id": "e8210961",
   "metadata": {},
   "outputs": [
    {
     "data": {
      "text/plain": [
       "Pregnancies                  13.50000\n",
       "Glucose                     189.00000\n",
       "BloodPressure                99.00000\n",
       "SkinThickness                43.00000\n",
       "Insulin                     216.75000\n",
       "BMI                          47.76250\n",
       "DiabetesPedigreeFunction      1.09575\n",
       "Age                          61.50000\n",
       "Outcome                       2.50000\n",
       "dtype: float64"
      ]
     },
     "execution_count": 285,
     "metadata": {},
     "output_type": "execute_result"
    }
   ],
   "source": [
    "upper_bound"
   ]
  },
  {
   "cell_type": "code",
   "execution_count": 286,
   "id": "97994914",
   "metadata": {},
   "outputs": [],
   "source": [
    "df = df[~((df < lower_bound) | (df > upper_bound)).any(axis=1)]"
   ]
  },
  {
   "cell_type": "code",
   "execution_count": 287,
   "id": "aca3e3be",
   "metadata": {},
   "outputs": [
    {
     "data": {
      "text/plain": [
       "(568, 9)"
      ]
     },
     "execution_count": 287,
     "metadata": {},
     "output_type": "execute_result"
    }
   ],
   "source": [
    "df.shape"
   ]
  },
  {
   "cell_type": "code",
   "execution_count": 288,
   "id": "62549794",
   "metadata": {},
   "outputs": [
    {
     "data": {
      "text/plain": [
       "<Axes: xlabel='DiabetesPedigreeFunction'>"
      ]
     },
     "execution_count": 288,
     "metadata": {},
     "output_type": "execute_result"
    },
    {
     "data": {
      "image/png": "[encoded data removed]",
      "text/plain": [
       "<Figure size 1600x1200 with 8 Axes>"
      ]
     },
     "metadata": {},
     "output_type": "display_data"
    }
   ],
   "source": [
    "plt.figure(figsize=(16,12))\n",
    "sns.set_style(style='whitegrid')\n",
    "plt.subplot(3,3,1)\n",
    "sns.boxplot(x='Glucose',data=df)\n",
    "plt.subplot(3,3,2)\n",
    "sns.boxplot(x='BloodPressure',data=df)\n",
    "plt.subplot(3,3,3)\n",
    "sns.boxplot(x='Insulin',data=df)\n",
    "plt.subplot(3,3,4)\n",
    "sns.boxplot(x='BMI',data=df)\n",
    "plt.subplot(3,3,5)\n",
    "sns.boxplot(x='Age',data=df)\n",
    "plt.subplot(3,3,6)\n",
    "sns.boxplot(x='SkinThickness',data=df)\n",
    "plt.subplot(3,3,7)\n",
    "sns.boxplot(x='Pregnancies',data=df)\n",
    "plt.subplot(3,3,8)\n",
    "sns.boxplot(x='DiabetesPedigreeFunction',data=df)"
   ]
  },
  {
   "cell_type": "code",
   "execution_count": 289,
   "id": "71552838",
   "metadata": {},
   "outputs": [],
   "source": [
    "#Outliers are removed to some extent"
   ]
  },
  {
   "cell_type": "code",
   "execution_count": 290,
   "id": "acb708d9",
   "metadata": {},
   "outputs": [],
   "source": [
    "Q1 = df.quantile(0.25)\n",
    "Q3 = df.quantile(0.75)\n",
    "IQR = Q3 - Q1\n",
    "lower_bound = Q1 - 1.5 * IQR\n",
    "upper_bound = Q3 + 1.5 * IQR"
   ]
  },
  {
   "cell_type": "code",
   "execution_count": 291,
   "id": "9296634f",
   "metadata": {},
   "outputs": [
    {
     "data": {
      "text/plain": [
       "Pregnancies                 -6.50000\n",
       "Glucose                     47.50000\n",
       "BloodPressure               43.00000\n",
       "SkinThickness               12.50000\n",
       "Insulin                    -69.25000\n",
       "BMI                         14.50000\n",
       "DiabetesPedigreeFunction    -0.24075\n",
       "Age                          0.50000\n",
       "Outcome                     -1.50000\n",
       "dtype: float64"
      ]
     },
     "execution_count": 291,
     "metadata": {},
     "output_type": "execute_result"
    }
   ],
   "source": [
    "lower_bound"
   ]
  },
  {
   "cell_type": "code",
   "execution_count": 292,
   "id": "d5dd9ec9",
   "metadata": {},
   "outputs": [],
   "source": [
    "df = df[~((df < lower_bound) | (df > upper_bound)).any(axis=1)]"
   ]
  },
  {
   "cell_type": "code",
   "execution_count": 293,
   "id": "ddf5ee60",
   "metadata": {},
   "outputs": [
    {
     "data": {
      "text/plain": [
       "Pregnancies                  13.50000\n",
       "Glucose                     179.50000\n",
       "BloodPressure                99.00000\n",
       "SkinThickness                40.50000\n",
       "Insulin                     196.75000\n",
       "BMI                          47.50000\n",
       "DiabetesPedigreeFunction      1.02725\n",
       "Age                          60.50000\n",
       "Outcome                       2.50000\n",
       "dtype: float64"
      ]
     },
     "execution_count": 293,
     "metadata": {},
     "output_type": "execute_result"
    }
   ],
   "source": [
    "upper_bound"
   ]
  },
  {
   "cell_type": "code",
   "execution_count": 294,
   "id": "7c705eec",
   "metadata": {},
   "outputs": [],
   "source": [
    "df = df[~((df < lower_bound) | (df > upper_bound)).any(axis=1)]"
   ]
  },
  {
   "cell_type": "code",
   "execution_count": 295,
   "id": "953d7c76",
   "metadata": {
    "scrolled": true
   },
   "outputs": [
    {
     "data": {
      "text/plain": [
       "<Axes: xlabel='DiabetesPedigreeFunction'>"
      ]
     },
     "execution_count": 295,
     "metadata": {},
     "output_type": "execute_result"
    },
    {
     "data": {
      "image/png": "[encoded data removed]",
      "text/plain": [
       "<Figure size 1600x1200 with 8 Axes>"
      ]
     },
     "metadata": {},
     "output_type": "display_data"
    }
   ],
   "source": [
    "plt.figure(figsize=(16,12))\n",
    "sns.set_style(style='whitegrid')\n",
    "plt.subplot(3,3,1)\n",
    "sns.boxplot(x='Glucose',data=df)\n",
    "plt.subplot(3,3,2)\n",
    "sns.boxplot(x='BloodPressure',data=df)\n",
    "plt.subplot(3,3,3)\n",
    "sns.boxplot(x='Insulin',data=df)\n",
    "plt.subplot(3,3,4)\n",
    "sns.boxplot(x='BMI',data=df)\n",
    "plt.subplot(3,3,5)\n",
    "sns.boxplot(x='Age',data=df)\n",
    "plt.subplot(3,3,6)\n",
    "sns.boxplot(x='SkinThickness',data=df)\n",
    "plt.subplot(3,3,7)\n",
    "sns.boxplot(x='Pregnancies',data=df)\n",
    "plt.subplot(3,3,8)\n",
    "sns.boxplot(x='DiabetesPedigreeFunction',data=df)"
   ]
  },
  {
   "cell_type": "code",
   "execution_count": 296,
   "id": "2e9a592a",
   "metadata": {},
   "outputs": [],
   "source": [
    "# splitiing the dataframe in X and y\n",
    "\n",
    "X = df.drop(\"Outcome\", axis=1)\n",
    "y = df.Outcome \n"
   ]
  },
  {
   "cell_type": "code",
   "execution_count": 297,
   "id": "dc8c0779",
   "metadata": {},
   "outputs": [
    {
     "data": {
      "text/html": [
       "<div>\n",
       "<style scoped>\n",
       "    .dataframe tbody tr th:only-of-type {\n",
       "        vertical-align: middle;\n",
       "    }\n",
       "\n",
       "    .dataframe tbody tr th {\n",
       "        vertical-align: top;\n",
       "    }\n",
       "\n",
       "    .dataframe thead th {\n",
       "        text-align: right;\n",
       "    }\n",
       "</style>\n",
       "<table border=\"1\" class=\"dataframe\">\n",
       "  <thead>\n",
       "    <tr style=\"text-align: right;\">\n",
       "      <th></th>\n",
       "      <th>Pregnancies</th>\n",
       "      <th>Glucose</th>\n",
       "      <th>BloodPressure</th>\n",
       "      <th>SkinThickness</th>\n",
       "      <th>Insulin</th>\n",
       "      <th>BMI</th>\n",
       "      <th>DiabetesPedigreeFunction</th>\n",
       "      <th>Age</th>\n",
       "    </tr>\n",
       "  </thead>\n",
       "  <tbody>\n",
       "    <tr>\n",
       "      <th>0</th>\n",
       "      <td>6</td>\n",
       "      <td>148.0</td>\n",
       "      <td>72.0</td>\n",
       "      <td>35</td>\n",
       "      <td>30.5</td>\n",
       "      <td>33.6</td>\n",
       "      <td>0.627</td>\n",
       "      <td>50</td>\n",
       "    </tr>\n",
       "    <tr>\n",
       "      <th>1</th>\n",
       "      <td>1</td>\n",
       "      <td>85.0</td>\n",
       "      <td>66.0</td>\n",
       "      <td>29</td>\n",
       "      <td>30.5</td>\n",
       "      <td>26.6</td>\n",
       "      <td>0.351</td>\n",
       "      <td>31</td>\n",
       "    </tr>\n",
       "    <tr>\n",
       "      <th>3</th>\n",
       "      <td>1</td>\n",
       "      <td>89.0</td>\n",
       "      <td>66.0</td>\n",
       "      <td>23</td>\n",
       "      <td>94.0</td>\n",
       "      <td>28.1</td>\n",
       "      <td>0.167</td>\n",
       "      <td>21</td>\n",
       "    </tr>\n",
       "    <tr>\n",
       "      <th>5</th>\n",
       "      <td>5</td>\n",
       "      <td>116.0</td>\n",
       "      <td>74.0</td>\n",
       "      <td>23</td>\n",
       "      <td>30.5</td>\n",
       "      <td>25.6</td>\n",
       "      <td>0.201</td>\n",
       "      <td>30</td>\n",
       "    </tr>\n",
       "    <tr>\n",
       "      <th>6</th>\n",
       "      <td>3</td>\n",
       "      <td>78.0</td>\n",
       "      <td>50.0</td>\n",
       "      <td>32</td>\n",
       "      <td>88.0</td>\n",
       "      <td>31.0</td>\n",
       "      <td>0.248</td>\n",
       "      <td>26</td>\n",
       "    </tr>\n",
       "  </tbody>\n",
       "</table>\n",
       "</div>"
      ],
      "text/plain": [
       "   Pregnancies  Glucose  BloodPressure  SkinThickness  Insulin   BMI  \\\n",
       "0            6    148.0           72.0             35     30.5  33.6   \n",
       "1            1     85.0           66.0             29     30.5  26.6   \n",
       "3            1     89.0           66.0             23     94.0  28.1   \n",
       "5            5    116.0           74.0             23     30.5  25.6   \n",
       "6            3     78.0           50.0             32     88.0  31.0   \n",
       "\n",
       "   DiabetesPedigreeFunction  Age  \n",
       "0                     0.627   50  \n",
       "1                     0.351   31  \n",
       "3                     0.167   21  \n",
       "5                     0.201   30  \n",
       "6                     0.248   26  "
      ]
     },
     "execution_count": 297,
     "metadata": {},
     "output_type": "execute_result"
    }
   ],
   "source": [
    "X_num = X.select_dtypes('number')\n",
    "X_num.head()"
   ]
  },
  {
   "cell_type": "code",
   "execution_count": 298,
   "id": "59fb46f2",
   "metadata": {},
   "outputs": [],
   "source": [
    "scaler = MinMaxScaler()\n",
    "X_num_scaled = scaler.fit_transform(X_num)"
   ]
  },
  {
   "cell_type": "code",
   "execution_count": 299,
   "id": "38d672d5",
   "metadata": {},
   "outputs": [],
   "source": [
    "X_num_scaled = pd.DataFrame(X_num_scaled, columns=X_num.columns, index=X_num.index)"
   ]
  },
  {
   "cell_type": "code",
   "execution_count": 300,
   "id": "ada30735",
   "metadata": {},
   "outputs": [],
   "source": [
    "#  Train-test split\n",
    "X_train, X_test, y_train, y_test = train_test_split(X_num_scaled, y, test_size=0.2, random_state=0)"
   ]
  },
  {
   "cell_type": "code",
   "execution_count": 301,
   "id": "0f3e8401",
   "metadata": {},
   "outputs": [
    {
     "name": "stdout",
     "output_type": "stream",
     "text": [
      "(410, 8)\n",
      "(103, 8)\n",
      "(410,)\n",
      "(103,)\n"
     ]
    }
   ],
   "source": [
    "print(X_train.shape)\n",
    "print(X_test.shape)\n",
    "print(y_train.shape) \n",
    "print(y_test.shape)"
   ]
  },
  {
   "cell_type": "code",
   "execution_count": 302,
   "id": "9f19117a",
   "metadata": {},
   "outputs": [],
   "source": [
    "#  Observations after preprocessing\n",
    "# - Rows with missing values are replaced with mean/median\n",
    "# - Independent and dependent features have been separated into X and y.\n",
    "# Outliers are been treated\n",
    "# - The dataset has been split into train and test sets for model evaluation."
   ]
  },
  {
   "cell_type": "markdown",
   "id": "847243ce",
   "metadata": {},
   "source": [
    "# KNN Classification"
   ]
  },
  {
   "cell_type": "code",
   "execution_count": 362,
   "id": "1ac7db4e",
   "metadata": {},
   "outputs": [],
   "source": [
    "from sklearn.neighbors import KNeighborsClassifier\n",
    "from sklearn.metrics import classification_report,confusion_matrix\n",
    "from sklearn.metrics import f1_score, precision_score, recall_score\n",
    "from sklearn.model_selection import GridSearchCV"
   ]
  },
  {
   "cell_type": "code",
   "execution_count": 366,
   "id": "adebd00f",
   "metadata": {},
   "outputs": [
    {
     "name": "stdout",
     "output_type": "stream",
     "text": [
      "Best Parameters:  {'n_neighbors': 13, 'weights': 'uniform'}\n",
      "Best Accuracy:  0.7512195121951221\n"
     ]
    }
   ],
   "source": [
    "param_grid = {'n_neighbors': np.arange(1, 20), 'weights': ['uniform','distance']}\n",
    "knn = KNeighborsClassifier()\n",
    "# Create the GridSearchCV object\n",
    "grid_search = GridSearchCV(knn, param_grid, cv=5, scoring='accuracy')\n",
    "\n",
    "# Fit the model to the data\n",
    "grid_search.fit(X_train, y_train)\n",
    "\n",
    "# Print the best parameters and the corresponding accuracy\n",
    "print(\"Best Parameters: \", grid_search.best_params_)\n",
    "print(\"Best Accuracy: \", grid_search.best_score_)\n",
    "\n",
    "# Predict on the test set with the best model\n",
    "y_pred = grid_search.predict(X_train)\n",
    "y_pred1 = grid_search.predict(X_test)"
   ]
  },
  {
   "cell_type": "code",
   "execution_count": 369,
   "id": "36390643",
   "metadata": {},
   "outputs": [
    {
     "name": "stdout",
     "output_type": "stream",
     "text": [
      "[[69  4]\n",
      " [18 12]]\n",
      "0.802439024390244\n",
      "0.7864077669902912\n",
      "              precision    recall  f1-score   support\n",
      "\n",
      "           0       0.79      0.95      0.86        73\n",
      "           1       0.75      0.40      0.52        30\n",
      "\n",
      "    accuracy                           0.79       103\n",
      "   macro avg       0.77      0.67      0.69       103\n",
      "weighted avg       0.78      0.79      0.76       103\n",
      "\n",
      "\n",
      " F1:\n",
      " 0.5217391304347827\n",
      "\n",
      " Precision score is:\n",
      " 0.75\n",
      "\n",
      " Recall score is:\n",
      " 0.41964285714285715\n",
      "\n",
      " Recall score is:\n",
      " 0.4\n"
     ]
    }
   ],
   "source": [
    "print(confusion_matrix(y_test,y_pred1))\n",
    "print(accuracy_score(y_train,y_pred))\n",
    "print(accuracy_score(y_test,y_pred1))\n",
    "print(classification_report(y_test,y_pred1))\n",
    "print(\"\\n F1:\\n\",f1_score(y_test,y_pred1))\n",
    "print(\"\\n Precision score is:\\n\",precision_score(y_test,y_pred1))\n",
    "print(\"\\n Recall score is:\\n\",recall_score(y_train,y_pred))\n",
    "\n",
    "print(\"\\n Recall score is:\\n\",recall_score(y_test,y_pred1))\n"
   ]
  },
  {
   "cell_type": "markdown",
   "id": "04efb13f",
   "metadata": {},
   "source": [
    "## Predicting Probabilities"
   ]
  },
  {
   "cell_type": "code",
   "execution_count": 28,
   "id": "01f84971",
   "metadata": {},
   "outputs": [
    {
     "name": "stdout",
     "output_type": "stream",
     "text": [
      "[0.75303475 0.13165178 0.70214257 0.1389773  0.55785996 0.96654137\n",
      " 0.64599139 0.76835455 0.02189208 0.26662264 0.87089947 0.36148188\n",
      " 0.20396451 0.13005264 0.2761547  0.10314701 0.12633665 0.20494451\n",
      " 0.19419254 0.25882689 0.51932027 0.13091826 0.38345838 0.10429122\n",
      " 0.12033998 0.07239044 0.15813659 0.83857633 0.14850158 0.95363288\n",
      " 0.52949203 0.02532458 0.71954753 0.2649984  0.43408945 0.1295976\n",
      " 0.18332161 0.09069344 0.08443701 0.233219   0.09817226 0.7701333\n",
      " 0.75340202 0.47641458 0.06747123 0.3057663  0.06854481 0.12842408\n",
      " 0.15439153 0.40958001 0.2526059  0.15490113 0.24282045 0.20135955\n",
      " 0.37579433 0.11613534 0.11678723 0.08275116 0.31815678 0.31378818\n",
      " 0.21053626 0.34992693 0.43189294 0.31411405 0.49244693 0.21554053\n",
      " 0.13832887 0.04737077 0.46980528 0.64597627 0.61734494 0.72033568\n",
      " 0.2278139  0.23553281 0.05418273 0.18979    0.41338204 0.60098349\n",
      " 0.02987899 0.35881748 0.76131466 0.36495337 0.16862719 0.8822345\n",
      " 0.14775459 0.93076081 0.33085463 0.59890099 0.19576319 0.22504134\n",
      " 0.16259063 0.40872378 0.16310337 0.73554701 0.31556678 0.41193281\n",
      " 0.39144768 0.59846375 0.04072507 0.5301549  0.29083272 0.95712367\n",
      " 0.33826891 0.28081895 0.12378193 0.34467116 0.30848203 0.05708849\n",
      " 0.18703262 0.2827589  0.79556835 0.01957541 0.403983   0.91610242\n",
      " 0.28106121 0.08039668 0.04685105 0.023699   0.24621213 0.44845389\n",
      " 0.45255965 0.37646868 0.02373768 0.34785602 0.37846793 0.12900872\n",
      " 0.17753285 0.56155785 0.33479911 0.14132839 0.21598302 0.08663808\n",
      " 0.01073121 0.0813148  0.10429706 0.86820956 0.68909632 0.36975202\n",
      " 0.22864583 0.75812447 0.18724898 0.93980141 0.94080635 0.09096425\n",
      " 0.10192559 0.49408885 0.18034227 0.57397647 0.09201302 0.05677787\n",
      " 0.64329992 0.726982   0.46258906 0.51687024 0.24856967 0.05585233\n",
      " 0.44638209 0.27660681 0.15441324 0.63334335 0.15927377 0.07352755\n",
      " 0.12692075 0.56907706 0.88672061 0.43114892 0.43767002 0.27668947\n",
      " 0.0394082  0.58897321 0.25233895 0.73952811 0.60352329 0.22226479\n",
      " 0.08257735 0.7275244  0.7939686  0.73016437 0.62243016 0.39183893\n",
      " 0.05195722 0.06203896 0.27175052 0.10991627 0.8130495  0.17520136\n",
      " 0.71402905 0.36085475 0.3705687  0.86694996 0.69678665 0.07599492\n",
      " 0.40244818 0.44738908 0.77971322 0.95090084 0.24928699 0.28575133\n",
      " 0.25040967 0.21436679 0.06826338 0.63567141 0.46433806 0.10551296\n",
      " 0.23738271 0.06905464 0.83102746 0.73047966 0.4061611  0.1323307\n",
      " 0.42900144 0.48478475 0.87737221 0.22941601 0.12386834 0.8813456\n",
      " 0.49932965 0.08348751 0.14039464 0.63049076 0.00516551 0.7947333\n",
      " 0.34591413 0.1176086  0.27663613 0.9448466  0.63620784 0.07833308\n",
      " 0.28708669 0.53182467 0.68933828 0.44779293 0.80010185 0.25338804\n",
      " 0.8378342  0.07564553 0.12061131 0.16843768 0.85593013 0.16544804\n",
      " 0.87554656 0.01229159 0.02689788 0.17505333 0.76968518 0.32583258\n",
      " 0.76344885 0.82512519 0.11307277 0.86171752 0.70839167 0.16437361\n",
      " 0.32181829 0.2066641  0.37140082 0.17779705 0.2587716  0.84982944\n",
      " 0.41988755 0.69575309 0.05504398 0.12291738 0.16008382 0.95717859\n",
      " 0.61120875 0.22768642 0.43583623 0.25831585 0.77302049 0.1849434\n",
      " 0.32228253 0.43505454 0.24552104 0.75061476 0.16879906 0.05927948\n",
      " 0.10126533 0.88898397 0.09062396 0.52334438 0.66302561 0.09736141\n",
      " 0.56887053 0.39452593 0.09681662 0.36834061 0.06513044 0.36382579\n",
      " 0.88729897 0.06308868 0.16779739 0.90117784 0.16048619 0.46947903\n",
      " 0.13354068 0.92612395 0.35391593 0.15279567 0.34403787 0.63412354\n",
      " 0.27435591 0.31014557 0.83709764 0.30132596 0.93259427 0.4637352\n",
      " 0.18757598 0.13878139 0.69977675 0.0147315  0.84484105 0.54681668\n",
      " 0.41330842 0.70849575 0.62444752 0.26726916 0.33675513 0.10883724\n",
      " 0.90360268 0.00754517 0.32243539 0.61801188 0.23513252 0.90252089\n",
      " 0.1130453  0.12734056 0.45417188 0.34891129 0.77342203 0.27532965\n",
      " 0.08467863 0.32519467 0.75483104 0.83118331 0.10275182 0.68448765\n",
      " 0.47633836 0.36608449 0.27510642 0.17955687 0.3022069  0.02279689\n",
      " 0.41833736 0.3328624  0.64292474 0.12132409 0.74472963 0.27105874\n",
      " 0.38733157 0.11118749 0.28278842 0.19155181 0.29325804 0.57213505\n",
      " 0.80686364 0.55591058 0.25884588 0.53553691 0.08901316 0.31269934\n",
      " 0.22162459 0.06542707 0.79724999 0.05697546 0.39567232 0.32099569\n",
      " 0.26726175 0.62760772 0.18513959 0.91497762 0.31866596 0.08323784\n",
      " 0.32997524 0.17784079 0.69528672 0.1630727  0.0680503  0.28729889\n",
      " 0.28200817 0.72910133 0.13351815 0.47674867 0.12989481 0.24435586\n",
      " 0.23680159 0.04508365 0.84473505 0.62587494 0.13194449 0.11434157\n",
      " 0.36559371 0.11842682 0.08753934 0.13269749 0.252132   0.54114188\n",
      " 0.07052874 0.2365139  0.09094194 0.03783036 0.03752016 0.74259035\n",
      " 0.6162315  0.08865615 0.50455692 0.13313428 0.38241208 0.11652713\n",
      " 0.13628561 0.67694113 0.17252637 0.25047037 0.1354882  0.31388859\n",
      " 0.30741886 0.51919893 0.21099728 0.51473812 0.33701798 0.46072276\n",
      " 0.13038002 0.07438588 0.2871596  0.83580768 0.39252465 0.25087263\n",
      " 0.39338348 0.71087954 0.05212999 0.48877849 0.67159666 0.04776807\n",
      " 0.3178069  0.17773675 0.01677622 0.66913601 0.47977072 0.69528648\n",
      " 0.0300954  0.25212461 0.47026236 0.26288876 0.24582998 0.81361052\n",
      " 0.05120311 0.48035891 0.83537141 0.3514027  0.30582378 0.25919619\n",
      " 0.94378576 0.68983619 0.99253946 0.16339442 0.26279882 0.42082971\n",
      " 0.62395061 0.05522009 0.81554324 0.16458589 0.02476988 0.71194355\n",
      " 0.18172287 0.77328136 0.69491351 0.23738038 0.37728736 0.02859544\n",
      " 0.27824999 0.04277637 0.26838802 0.25019681 0.26843622 0.56068375\n",
      " 0.13319349 0.26732323 0.5568877  0.52245396 0.59816819 0.04883804\n",
      " 0.23015365 0.25836877 0.35942649 0.03972501 0.79187404 0.73472531\n",
      " 0.31706433 0.19432492 0.00274859 0.05636577 0.11898544 0.14205458\n",
      " 0.87716017 0.9107713  0.51317995 0.6209766  0.83154652 0.67485065\n",
      " 0.20146894 0.13501827 0.87358489 0.64036757 0.41522743 0.36747716\n",
      " 0.29964013 0.14363402 0.15287864 0.63291802 0.29090637 0.26521541\n",
      " 0.20610512 0.88784063 0.1409351  0.11144883 0.46382168 0.03999384\n",
      " 0.12645613 0.1582263  0.44251559 0.65695129 0.26743525 0.86046698\n",
      " 0.11665223 0.51357653 0.18149777 0.89745243 0.13115089 0.15647916\n",
      " 0.33888671 0.42546853 0.19969382 0.8033606  0.67343589 0.36181465\n",
      " 0.04848091 0.64398087 0.09336993 0.04806678 0.20944409 0.04691484\n",
      " 0.67501043 0.11719947 0.10509815 0.76215715 0.03465983 0.26388259\n",
      " 0.13548066 0.11672722 0.05838191 0.27533922 0.41019121 0.18366423\n",
      " 0.1420296  0.33078265 0.24643787 0.11702148 0.01801241 0.50344876\n",
      " 0.77046629 0.05344745 0.09421323 0.12808188 0.80768097 0.21182974\n",
      " 0.22083351 0.4868375  0.05347926 0.57804851 0.20444809 0.84936481\n",
      " 0.14473699 0.51182972 0.11300721 0.11816427 0.08119553 0.03648537\n",
      " 0.13561676 0.29541382 0.06693813 0.21197972 0.31607753 0.16363903\n",
      " 0.81076659 0.50049844 0.17056917 0.11372715 0.20005537 0.55851835\n",
      " 0.77258792 0.03494422 0.12772503 0.68684616 0.06255697 0.2157332\n",
      " 0.10269622 0.44649825 0.16539639 0.52991205 0.15150613 0.09218682\n",
      " 0.31521468 0.20991541 0.11399164 0.71851944 0.09582253 0.38272183\n",
      " 0.03488542 0.8686112  0.26849957 0.31493274 0.673431   0.06708032\n",
      " 0.1588294  0.07944285]\n",
      "   \n",
      "y_test_probs [0.96299167 0.17073295 0.10176827 0.62083856 0.12917603 0.03957536\n",
      " 0.74301386 0.84021767 0.38880298 0.34334568 0.57536926 0.95768189\n",
      " 0.27423767 0.17793257 0.11883379 0.16326408 0.86182122 0.02880311\n",
      " 0.39566323 0.25732158 0.66496398 0.45160236 0.23295354 0.06081033\n",
      " 0.05328301 0.38014436 0.04828824 0.90630856 0.11840736 0.15138527\n",
      " 0.44167842 0.25974037 0.09739341 0.46086762 0.10771667 0.72609411\n",
      " 0.44227728 0.09056168 0.34501232 0.759452   0.29841178 0.23838359\n",
      " 0.16242653 0.84141717 0.72120096 0.00890452 0.08971139 0.2078832\n",
      " 0.35840712 0.32010158 0.41632722 0.2007016  0.87176088 0.48762435\n",
      " 0.14129358 0.00278531 0.06218447 0.58114119 0.29974207 0.07634901\n",
      " 0.71130502 0.47183146 0.11995455 0.74964895 0.71163133 0.91005015\n",
      " 0.71927394 0.14472666 0.36598582 0.10783939 0.13794143 0.42192068\n",
      " 0.10375522 0.95343923 0.86728578 0.33548512 0.10590931 0.61974754\n",
      " 0.07193224 0.19359916 0.33886971 0.39626102 0.2109981  0.03322602\n",
      " 0.21018941 0.22891106 0.31249917 0.42390262 0.87007514 0.20149319\n",
      " 0.16995306 0.19077357 0.24292559 0.04184909 0.63468162 0.1969296\n",
      " 0.4253815  0.52509053 0.57498253 0.24585968 0.25941946 0.0976465\n",
      " 0.23174602 0.03899873 0.64946898 0.36512114 0.14064782 0.31935051\n",
      " 0.04253342 0.7695666  0.1111706  0.29975927 0.63127619 0.39500406\n",
      " 0.53735072 0.62386124 0.11344598 0.66928243 0.10750613 0.73655388\n",
      " 0.37838628 0.33659506 0.29620367 0.4298012  0.22802281 0.0495691\n",
      " 0.32619419 0.35996954 0.46326867 0.39519236 0.37527391 0.04047833\n",
      " 0.06053684 0.751907   0.29217923 0.38563131 0.14356423 0.39298443\n",
      " 0.68997921 0.21410092 0.09471273 0.53917014 0.07599939 0.07717577\n",
      " 0.35188909 0.09307687 0.07428075 0.08807584 0.13838185 0.18773069\n",
      " 0.08339906 0.68980518 0.10794868 0.18122553]\n"
     ]
    }
   ],
   "source": [
    "y_train_probs = model.predict_proba(X_train)[:, 1]\n",
    "y_test_probs = model.predict_proba(X_test)[:, 1]\n",
    "print(y_train_probs)\n",
    "print(\"   \")\n",
    "print(\"y_test_probs\",y_test_probs)"
   ]
  },
  {
   "cell_type": "markdown",
   "id": "955ceb70",
   "metadata": {},
   "source": [
    "### Consider different thresholds and calculate confusion matrices"
   ]
  },
  {
   "cell_type": "code",
   "execution_count": 29,
   "id": "0d97270b",
   "metadata": {},
   "outputs": [
    {
     "name": "stdout",
     "output_type": "stream",
     "text": [
      "Threshold: 0.0\n",
      "Confusion Matrix (Train Set):\n",
      "[[  0 393]\n",
      " [  0 221]]\n",
      "Confusion Matrix (Test Set):\n",
      "[[  0 107]\n",
      " [  0  47]]\n",
      "\n",
      "\n",
      "Threshold: 0.1\n",
      "Confusion Matrix (Train Set):\n",
      "[[ 94 299]\n",
      " [  4 217]]\n",
      "Confusion Matrix (Test Set):\n",
      "[[27 80]\n",
      " [ 1 46]]\n",
      "\n",
      "\n",
      "Threshold: 0.2\n",
      "Confusion Matrix (Train Set):\n",
      "[[205 188]\n",
      " [ 19 202]]\n",
      "Confusion Matrix (Test Set):\n",
      "[[56 51]\n",
      " [ 2 45]]\n",
      "\n",
      "\n",
      "Threshold: 0.30000000000000004\n",
      "Confusion Matrix (Train Set):\n",
      "[[273 120]\n",
      " [ 46 175]]\n",
      "Confusion Matrix (Test Set):\n",
      "[[74 33]\n",
      " [ 6 41]]\n",
      "\n",
      "\n",
      "Threshold: 0.4\n",
      "Confusion Matrix (Train Set):\n",
      "[[317  76]\n",
      " [ 72 149]]\n",
      "Confusion Matrix (Test Set):\n",
      "[[89 18]\n",
      " [15 32]]\n",
      "\n",
      "\n",
      "Threshold: 0.5\n",
      "Confusion Matrix (Train Set):\n",
      "[[345  48]\n",
      " [ 92 129]]\n",
      "Confusion Matrix (Test Set):\n",
      "[[98  9]\n",
      " [18 29]]\n",
      "\n",
      "\n",
      "Threshold: 0.6000000000000001\n",
      "Confusion Matrix (Train Set):\n",
      "[[358  35]\n",
      " [113 108]]\n",
      "Confusion Matrix (Test Set):\n",
      "[[100   7]\n",
      " [ 22  25]]\n",
      "\n",
      "\n",
      "Threshold: 0.7000000000000001\n",
      "Confusion Matrix (Train Set):\n",
      "[[375  18]\n",
      " [140  81]]\n",
      "Confusion Matrix (Test Set):\n",
      "[[104   3]\n",
      " [ 28  19]]\n",
      "\n",
      "\n",
      "Threshold: 0.8\n",
      "Confusion Matrix (Train Set):\n",
      "[[386   7]\n",
      " [170  51]]\n",
      "Confusion Matrix (Test Set):\n",
      "[[105   2]\n",
      " [ 38   9]]\n",
      "\n",
      "\n",
      "Threshold: 0.9\n",
      "Confusion Matrix (Train Set):\n",
      "[[391   2]\n",
      " [204  17]]\n",
      "Confusion Matrix (Test Set):\n",
      "[[105   2]\n",
      " [ 44   3]]\n",
      "\n",
      "\n",
      "Threshold: 1.0\n",
      "Confusion Matrix (Train Set):\n",
      "[[393   0]\n",
      " [221   0]]\n",
      "Confusion Matrix (Test Set):\n",
      "[[107   0]\n",
      " [ 47   0]]\n",
      "\n",
      "\n"
     ]
    }
   ],
   "source": [
    "\n",
    "thresholds = np.arange(0, 1.1, 0.1)\n",
    "for threshold in thresholds:\n",
    "    y_train_pred = (y_train_probs > threshold).astype(int)\n",
    "    y_test_pred = (y_test_probs > threshold).astype(int)\n",
    "\n",
    "    confusion_train = confusion_matrix(y_train, y_train_pred)\n",
    "    confusion_test = confusion_matrix(y_test, y_test_pred)\n",
    "\n",
    "    print(f\"Threshold: {threshold}\")\n",
    "    print(\"Confusion Matrix (Train Set):\")\n",
    "    print(confusion_train)\n",
    "    print(\"Confusion Matrix (Test Set):\")\n",
    "    print(confusion_test)\n",
    "    print(\"\\n\")\n"
   ]
  },
  {
   "cell_type": "code",
   "execution_count": null,
   "id": "a36aa357",
   "metadata": {},
   "outputs": [],
   "source": []
  },
  {
   "cell_type": "markdown",
   "id": "0b524fe4",
   "metadata": {},
   "source": [
    "### Decision Tree Classification"
   ]
  },
  {
   "cell_type": "code",
   "execution_count": 305,
   "id": "9ebfa7cc",
   "metadata": {},
   "outputs": [],
   "source": [
    "from sklearn.tree import DecisionTreeClassifier\n",
    "from sklearn.metrics import classification_report,confusion_matrix\n",
    "from sklearn.metrics import f1_score, precision_score, recall_score\n",
    "from sklearn.model_selection import GridSearchCV\n",
    "from sklearn.metrics import confusion_matrix\n"
   ]
  },
  {
   "cell_type": "code",
   "execution_count": 306,
   "id": "8e56b9be",
   "metadata": {},
   "outputs": [
    {
     "data": {
      "text/html": [
       "<style>#sk-container-id-9 {color: black;background-color: white;}#sk-container-id-9 pre{padding: 0;}#sk-container-id-9 div.sk-toggleable {background-color: white;}#sk-container-id-9 label.sk-toggleable__label {cursor: pointer;display: block;width: 100%;margin-bottom: 0;padding: 0.3em;box-sizing: border-box;text-align: center;}#sk-container-id-9 label.sk-toggleable__label-arrow:before {content: \"▸\";float: left;margin-right: 0.25em;color: #696969;}#sk-container-id-9 label.sk-toggleable__label-arrow:hover:before {color: black;}#sk-container-id-9 div.sk-estimator:hover label.sk-toggleable__label-arrow:before {color: black;}#sk-container-id-9 div.sk-toggleable__content {max-height: 0;max-width: 0;overflow: hidden;text-align: left;background-color: #f0f8ff;}#sk-container-id-9 div.sk-toggleable__content pre {margin: 0.2em;color: black;border-radius: 0.25em;background-color: #f0f8ff;}#sk-container-id-9 input.sk-toggleable__control:checked~div.sk-toggleable__content {max-height: 200px;max-width: 100%;overflow: auto;}#sk-container-id-9 input.sk-toggleable__control:checked~label.sk-toggleable__label-arrow:before {content: \"▾\";}#sk-container-id-9 div.sk-estimator input.sk-toggleable__control:checked~label.sk-toggleable__label {background-color: #d4ebff;}#sk-container-id-9 div.sk-label input.sk-toggleable__control:checked~label.sk-toggleable__label {background-color: #d4ebff;}#sk-container-id-9 input.sk-hidden--visually {border: 0;clip: rect(1px 1px 1px 1px);clip: rect(1px, 1px, 1px, 1px);height: 1px;margin: -1px;overflow: hidden;padding: 0;position: absolute;width: 1px;}#sk-container-id-9 div.sk-estimator {font-family: monospace;background-color: #f0f8ff;border: 1px dotted black;border-radius: 0.25em;box-sizing: border-box;margin-bottom: 0.5em;}#sk-container-id-9 div.sk-estimator:hover {background-color: #d4ebff;}#sk-container-id-9 div.sk-parallel-item::after {content: \"\";width: 100%;border-bottom: 1px solid gray;flex-grow: 1;}#sk-container-id-9 div.sk-label:hover label.sk-toggleable__label {background-color: #d4ebff;}#sk-container-id-9 div.sk-serial::before {content: \"\";position: absolute;border-left: 1px solid gray;box-sizing: border-box;top: 0;bottom: 0;left: 50%;z-index: 0;}#sk-container-id-9 div.sk-serial {display: flex;flex-direction: column;align-items: center;background-color: white;padding-right: 0.2em;padding-left: 0.2em;position: relative;}#sk-container-id-9 div.sk-item {position: relative;z-index: 1;}#sk-container-id-9 div.sk-parallel {display: flex;align-items: stretch;justify-content: center;background-color: white;position: relative;}#sk-container-id-9 div.sk-item::before, #sk-container-id-9 div.sk-parallel-item::before {content: \"\";position: absolute;border-left: 1px solid gray;box-sizing: border-box;top: 0;bottom: 0;left: 50%;z-index: -1;}#sk-container-id-9 div.sk-parallel-item {display: flex;flex-direction: column;z-index: 1;position: relative;background-color: white;}#sk-container-id-9 div.sk-parallel-item:first-child::after {align-self: flex-end;width: 50%;}#sk-container-id-9 div.sk-parallel-item:last-child::after {align-self: flex-start;width: 50%;}#sk-container-id-9 div.sk-parallel-item:only-child::after {width: 0;}#sk-container-id-9 div.sk-dashed-wrapped {border: 1px dashed gray;margin: 0 0.4em 0.5em 0.4em;box-sizing: border-box;padding-bottom: 0.4em;background-color: white;}#sk-container-id-9 div.sk-label label {font-family: monospace;font-weight: bold;display: inline-block;line-height: 1.2em;}#sk-container-id-9 div.sk-label-container {text-align: center;}#sk-container-id-9 div.sk-container {/* jupyter's `normalize.less` sets `[hidden] { display: none; }` but bootstrap.min.css set `[hidden] { display: none !important; }` so we also need the `!important` here to be able to override the default hidden behavior on the sphinx rendered scikit-learn.org. See: https://github.com/scikit-learn/scikit-learn/issues/21755 */display: inline-block !important;position: relative;}#sk-container-id-9 div.sk-text-repr-fallback {display: none;}</style><div id=\"sk-container-id-9\" class=\"sk-top-container\"><div class=\"sk-text-repr-fallback\"><pre>DecisionTreeClassifier()</pre><b>In a Jupyter environment, please rerun this cell to show the HTML representation or trust the notebook. <br />On GitHub, the HTML representation is unable to render, please try loading this page with nbviewer.org.</b></div><div class=\"sk-container\" hidden><div class=\"sk-item\"><div class=\"sk-estimator sk-toggleable\"><input class=\"sk-toggleable__control sk-hidden--visually\" id=\"sk-estimator-id-9\" type=\"checkbox\" checked><label for=\"sk-estimator-id-9\" class=\"sk-toggleable__label sk-toggleable__label-arrow\">DecisionTreeClassifier</label><div class=\"sk-toggleable__content\"><pre>DecisionTreeClassifier()</pre></div></div></div></div></div>"
      ],
      "text/plain": [
       "DecisionTreeClassifier()"
      ]
     },
     "execution_count": 306,
     "metadata": {},
     "output_type": "execute_result"
    }
   ],
   "source": [
    "clf = DecisionTreeClassifier()\n",
    "clf.fit(X_train, y_train)"
   ]
  },
  {
   "cell_type": "code",
   "execution_count": 307,
   "id": "9f714cee",
   "metadata": {},
   "outputs": [
    {
     "data": {
      "text/plain": [
       "array([1, 0, 0, 0, 0, 1, 0, 0, 0, 0, 1, 0, 0, 0, 1, 0, 0, 0, 0, 0, 0, 1,\n",
       "       0, 0, 0, 0, 1, 0, 1, 0, 0, 0, 1, 0, 0, 0, 0, 0, 0, 1, 0, 0, 1, 0,\n",
       "       1, 0, 1, 0, 0, 0, 0, 0, 0, 1, 1, 0, 0, 0, 0, 0, 1, 1, 1, 0, 1, 0,\n",
       "       0, 1, 0, 0, 1, 1, 1, 1, 0, 0, 0, 1, 1, 0, 0, 0, 0, 0, 0, 0, 0, 0,\n",
       "       1, 0, 0, 0, 0, 0, 0, 0, 0, 1, 0, 1, 0, 0, 1, 0, 1, 0, 0, 0, 1, 0,\n",
       "       0, 0, 0, 0, 0, 1, 0, 1, 0, 0, 0, 0, 1, 1, 0, 0, 0, 0, 1, 0, 1, 0,\n",
       "       1, 1, 0, 0, 1, 0, 1, 1, 0, 0, 0, 0, 0, 0, 0, 0, 0, 0, 0, 0, 0, 0,\n",
       "       0, 0, 0, 0, 0, 0, 0, 0, 0, 1, 0, 0, 0, 0, 0, 0, 0, 0, 0, 0, 0, 0,\n",
       "       0, 0, 0, 1, 0, 0, 0, 0, 0, 1, 1, 0, 1, 1, 0, 0, 0, 0, 1, 0, 1, 0,\n",
       "       0, 0, 0, 0, 0, 0, 0, 0, 0, 0, 0, 1, 0, 0, 1, 0, 1, 0, 0, 0, 0, 1,\n",
       "       0, 0, 0, 0, 0, 1, 0, 0, 1, 0, 0, 0, 0, 0, 0, 0, 0, 1, 1, 0, 1, 0,\n",
       "       0, 1, 1, 0, 1, 0, 1, 1, 0, 1, 0, 1, 1, 0, 1, 0, 0, 0, 0, 0, 0, 1,\n",
       "       1, 0, 0, 1, 0, 0, 1, 0, 0, 1, 0, 1, 0, 0, 0, 0, 1, 0, 1, 0, 0, 0,\n",
       "       0, 0, 0, 1, 1, 0, 0, 0, 0, 0, 0, 0, 0, 0, 0, 0, 0, 0, 0, 0, 0, 1,\n",
       "       0, 0, 1, 1, 0, 1, 1, 0, 0, 0, 0, 0, 1, 1, 1, 1, 0, 1, 0, 0, 0, 1,\n",
       "       0, 0, 1, 0, 1, 0, 0, 0, 0, 0, 0, 0, 0, 0, 1, 0, 0, 0, 0, 0, 0, 0,\n",
       "       0, 0, 0, 0, 0, 0, 1, 0, 0, 1, 1, 0, 0, 0, 0, 0, 0, 0, 0, 1, 0, 0,\n",
       "       0, 1, 1, 1, 1, 0, 0, 1, 1, 0, 0, 0, 1, 0, 0, 0, 0, 1, 1, 1, 0, 0,\n",
       "       0, 0, 0, 1, 0, 1, 0, 1, 1, 1, 0, 0, 0, 1], dtype=int64)"
      ]
     },
     "execution_count": 307,
     "metadata": {},
     "output_type": "execute_result"
    }
   ],
   "source": [
    "clfpred1 = clf.predict(X_train)\n",
    "clfpred1"
   ]
  },
  {
   "cell_type": "code",
   "execution_count": 308,
   "id": "90402ac5",
   "metadata": {},
   "outputs": [
    {
     "data": {
      "text/plain": [
       "array([0, 0, 1, 0, 0, 1, 1, 0, 0, 1, 0, 1, 0, 0, 0, 0, 0, 0, 1, 0, 1, 0,\n",
       "       0, 0, 1, 0, 0, 0, 1, 1, 1, 0, 0, 1, 0, 0, 0, 1, 0, 0, 1, 0, 0, 1,\n",
       "       1, 0, 0, 1, 0, 0, 0, 1, 0, 1, 0, 0, 1, 0, 1, 0, 0, 0, 0, 0, 1, 0,\n",
       "       1, 1, 0, 1, 0, 0, 0, 1, 0, 1, 0, 0, 0, 0, 1, 0, 1, 1, 0, 1, 1, 0,\n",
       "       0, 0, 0, 0, 0, 1, 0, 0, 0, 0, 1, 0, 0, 0, 0], dtype=int64)"
      ]
     },
     "execution_count": 308,
     "metadata": {},
     "output_type": "execute_result"
    }
   ],
   "source": [
    "# predicting the results for test data\n",
    "clfpred = clf.predict(X_test)\n",
    "clfpred"
   ]
  },
  {
   "cell_type": "code",
   "execution_count": 309,
   "id": "531f7eaf",
   "metadata": {
    "scrolled": true
   },
   "outputs": [
    {
     "name": "stdout",
     "output_type": "stream",
     "text": [
      "[[56 17]\n",
      " [13 17]]\n",
      "1.0\n",
      "0.7087378640776699\n",
      "              precision    recall  f1-score   support\n",
      "\n",
      "           0       0.81      0.77      0.79        73\n",
      "           1       0.50      0.57      0.53        30\n",
      "\n",
      "    accuracy                           0.71       103\n",
      "   macro avg       0.66      0.67      0.66       103\n",
      "weighted avg       0.72      0.71      0.71       103\n",
      "\n",
      "\n",
      " F1:\n",
      " 0.53125\n",
      "\n",
      " Precision score is:\n",
      " 0.5\n",
      "\n",
      " Recall score is:\n",
      " 0.5666666666666667\n"
     ]
    }
   ],
   "source": [
    "print(confusion_matrix(y_test,clfpred))\n",
    "print(accuracy_score(y_train,clfpred1))\n",
    "print(accuracy_score(y_test,clfpred))\n",
    "print(classification_report(y_test,clfpred))\n",
    "print(\"\\n F1:\\n\",f1_score(y_test,clfpred))\n",
    "print(\"\\n Precision score is:\\n\",precision_score(y_test,clfpred))\n",
    "print(\"\\n Recall score is:\\n\",recall_score(y_test,clfpred))\n"
   ]
  },
  {
   "cell_type": "code",
   "execution_count": 310,
   "id": "fb654fb8",
   "metadata": {},
   "outputs": [
    {
     "name": "stdout",
     "output_type": "stream",
     "text": [
      "Fitting 5 folds for each of 576 candidates, totalling 2880 fits\n",
      "Best Parameters: {'criterion': 'gini', 'max_depth': 2, 'min_samples_leaf': 1, 'min_samples_split': 2}\n",
      "Best Accuracy Score: 0.7585365853658536\n",
      "Accuracy on Test Set: 0.7572815533980582\n"
     ]
    }
   ],
   "source": [
    "dt_classifier = DecisionTreeClassifier()\n",
    "\n",
    "# Define the parameter grid to search\n",
    "param_grid = {\n",
    "    'criterion': ['gini', 'entropy'],\n",
    "    'max_depth': np.arange(1, 10),\n",
    "    'min_samples_split': np.arange(2, 10),\n",
    "    'min_samples_leaf': np.arange(1, 5)\n",
    "}\n",
    "\n",
    "# Create the GridSearchCV object\n",
    "grid_search = GridSearchCV(estimator=dt_classifier, param_grid=param_grid, cv=5, scoring='accuracy', verbose=1)\n",
    "\n",
    "# Fit the grid search to the data\n",
    "grid_search.fit(X_train, y_train)\n",
    "\n",
    "# Print the best parameters and the corresponding accuracy score\n",
    "print(\"Best Parameters:\", grid_search.best_params_)\n",
    "print(\"Best Accuracy Score:\", grid_search.best_score_)\n",
    "\n",
    "# Get the best model\n",
    "best_dt_model = grid_search.best_estimator_\n",
    "\n",
    "# Evaluate the model on the test set\n",
    "y_pred = best_dt_model.predict(X_test)\n",
    "accuracy = accuracy_score(y_test, y_pred)\n",
    "print(\"Accuracy on Test Set:\", accuracy)"
   ]
  },
  {
   "cell_type": "code",
   "execution_count": null,
   "id": "f388428d",
   "metadata": {},
   "outputs": [],
   "source": []
  },
  {
   "cell_type": "code",
   "execution_count": null,
   "id": "ed199e0d",
   "metadata": {},
   "outputs": [],
   "source": []
  },
  {
   "cell_type": "markdown",
   "id": "cdc51b1c",
   "metadata": {},
   "source": [
    "### Logistic regression"
   ]
  },
  {
   "cell_type": "code",
   "execution_count": 323,
   "id": "87b1f2de",
   "metadata": {},
   "outputs": [],
   "source": [
    "import warnings\n",
    "warnings.filterwarnings('ignore')\n",
    "from sklearn.linear_model import LogisticRegression\n",
    "from sklearn.metrics import classification_report,confusion_matrix\n",
    "from sklearn.metrics import f1_score, precision_score, recall_score,accuracy_score"
   ]
  },
  {
   "cell_type": "code",
   "execution_count": 324,
   "id": "6f20b3bc",
   "metadata": {},
   "outputs": [
    {
     "data": {
      "text/html": [
       "<style>#sk-container-id-11 {color: black;background-color: white;}#sk-container-id-11 pre{padding: 0;}#sk-container-id-11 div.sk-toggleable {background-color: white;}#sk-container-id-11 label.sk-toggleable__label {cursor: pointer;display: block;width: 100%;margin-bottom: 0;padding: 0.3em;box-sizing: border-box;text-align: center;}#sk-container-id-11 label.sk-toggleable__label-arrow:before {content: \"▸\";float: left;margin-right: 0.25em;color: #696969;}#sk-container-id-11 label.sk-toggleable__label-arrow:hover:before {color: black;}#sk-container-id-11 div.sk-estimator:hover label.sk-toggleable__label-arrow:before {color: black;}#sk-container-id-11 div.sk-toggleable__content {max-height: 0;max-width: 0;overflow: hidden;text-align: left;background-color: #f0f8ff;}#sk-container-id-11 div.sk-toggleable__content pre {margin: 0.2em;color: black;border-radius: 0.25em;background-color: #f0f8ff;}#sk-container-id-11 input.sk-toggleable__control:checked~div.sk-toggleable__content {max-height: 200px;max-width: 100%;overflow: auto;}#sk-container-id-11 input.sk-toggleable__control:checked~label.sk-toggleable__label-arrow:before {content: \"▾\";}#sk-container-id-11 div.sk-estimator input.sk-toggleable__control:checked~label.sk-toggleable__label {background-color: #d4ebff;}#sk-container-id-11 div.sk-label input.sk-toggleable__control:checked~label.sk-toggleable__label {background-color: #d4ebff;}#sk-container-id-11 input.sk-hidden--visually {border: 0;clip: rect(1px 1px 1px 1px);clip: rect(1px, 1px, 1px, 1px);height: 1px;margin: -1px;overflow: hidden;padding: 0;position: absolute;width: 1px;}#sk-container-id-11 div.sk-estimator {font-family: monospace;background-color: #f0f8ff;border: 1px dotted black;border-radius: 0.25em;box-sizing: border-box;margin-bottom: 0.5em;}#sk-container-id-11 div.sk-estimator:hover {background-color: #d4ebff;}#sk-container-id-11 div.sk-parallel-item::after {content: \"\";width: 100%;border-bottom: 1px solid gray;flex-grow: 1;}#sk-container-id-11 div.sk-label:hover label.sk-toggleable__label {background-color: #d4ebff;}#sk-container-id-11 div.sk-serial::before {content: \"\";position: absolute;border-left: 1px solid gray;box-sizing: border-box;top: 0;bottom: 0;left: 50%;z-index: 0;}#sk-container-id-11 div.sk-serial {display: flex;flex-direction: column;align-items: center;background-color: white;padding-right: 0.2em;padding-left: 0.2em;position: relative;}#sk-container-id-11 div.sk-item {position: relative;z-index: 1;}#sk-container-id-11 div.sk-parallel {display: flex;align-items: stretch;justify-content: center;background-color: white;position: relative;}#sk-container-id-11 div.sk-item::before, #sk-container-id-11 div.sk-parallel-item::before {content: \"\";position: absolute;border-left: 1px solid gray;box-sizing: border-box;top: 0;bottom: 0;left: 50%;z-index: -1;}#sk-container-id-11 div.sk-parallel-item {display: flex;flex-direction: column;z-index: 1;position: relative;background-color: white;}#sk-container-id-11 div.sk-parallel-item:first-child::after {align-self: flex-end;width: 50%;}#sk-container-id-11 div.sk-parallel-item:last-child::after {align-self: flex-start;width: 50%;}#sk-container-id-11 div.sk-parallel-item:only-child::after {width: 0;}#sk-container-id-11 div.sk-dashed-wrapped {border: 1px dashed gray;margin: 0 0.4em 0.5em 0.4em;box-sizing: border-box;padding-bottom: 0.4em;background-color: white;}#sk-container-id-11 div.sk-label label {font-family: monospace;font-weight: bold;display: inline-block;line-height: 1.2em;}#sk-container-id-11 div.sk-label-container {text-align: center;}#sk-container-id-11 div.sk-container {/* jupyter's `normalize.less` sets `[hidden] { display: none; }` but bootstrap.min.css set `[hidden] { display: none !important; }` so we also need the `!important` here to be able to override the default hidden behavior on the sphinx rendered scikit-learn.org. See: https://github.com/scikit-learn/scikit-learn/issues/21755 */display: inline-block !important;position: relative;}#sk-container-id-11 div.sk-text-repr-fallback {display: none;}</style><div id=\"sk-container-id-11\" class=\"sk-top-container\"><div class=\"sk-text-repr-fallback\"><pre>LogisticRegression()</pre><b>In a Jupyter environment, please rerun this cell to show the HTML representation or trust the notebook. <br />On GitHub, the HTML representation is unable to render, please try loading this page with nbviewer.org.</b></div><div class=\"sk-container\" hidden><div class=\"sk-item\"><div class=\"sk-estimator sk-toggleable\"><input class=\"sk-toggleable__control sk-hidden--visually\" id=\"sk-estimator-id-11\" type=\"checkbox\" checked><label for=\"sk-estimator-id-11\" class=\"sk-toggleable__label sk-toggleable__label-arrow\">LogisticRegression</label><div class=\"sk-toggleable__content\"><pre>LogisticRegression()</pre></div></div></div></div></div>"
      ],
      "text/plain": [
       "LogisticRegression()"
      ]
     },
     "execution_count": 324,
     "metadata": {},
     "output_type": "execute_result"
    }
   ],
   "source": [
    "reg = LogisticRegression()\n",
    "reg.fit(X_train,y_train) "
   ]
  },
  {
   "cell_type": "code",
   "execution_count": 333,
   "id": "78f82436",
   "metadata": {},
   "outputs": [],
   "source": [
    "lr_pred=reg.predict(X_train)\n",
    "lr_pred1=reg.predict(X_test)"
   ]
  },
  {
   "cell_type": "code",
   "execution_count": 335,
   "id": "e4026169",
   "metadata": {},
   "outputs": [
    {
     "data": {
      "text/plain": [
       "(103,)"
      ]
     },
     "execution_count": 335,
     "metadata": {},
     "output_type": "execute_result"
    }
   ],
   "source": [
    "lr_pred1.shape"
   ]
  },
  {
   "cell_type": "code",
   "execution_count": 337,
   "id": "55a84909",
   "metadata": {},
   "outputs": [
    {
     "data": {
      "text/plain": [
       "(103,)"
      ]
     },
     "execution_count": 337,
     "metadata": {},
     "output_type": "execute_result"
    }
   ],
   "source": [
    "y_test.shape"
   ]
  },
  {
   "cell_type": "code",
   "execution_count": 341,
   "id": "ab8ad134",
   "metadata": {
    "scrolled": true
   },
   "outputs": [
    {
     "name": "stdout",
     "output_type": "stream",
     "text": [
      "Classification Report is:\n",
      "               precision    recall  f1-score   support\n",
      "\n",
      "           0       0.79      0.97      0.87        73\n",
      "           1       0.85      0.37      0.51        30\n",
      "\n",
      "    accuracy                           0.80       103\n",
      "   macro avg       0.82      0.67      0.69       103\n",
      "weighted avg       0.81      0.80      0.77       103\n",
      "\n",
      "\n",
      " F1:\n",
      " 0.5116279069767441\n",
      "\n",
      " Precision score is:\n",
      " 0.8461538461538461\n",
      "\n",
      " Recall score is:\n",
      " 0.36666666666666664\n",
      "\n",
      " Accuracy score of train is:\n",
      " 0.7829268292682927\n",
      "\n",
      " Accuracy score of test :\n",
      " 0.7961165048543689\n"
     ]
    }
   ],
   "source": [
    "print(\"Classification Report is:\\n\",classification_report(y_test,lr_pred1))\n",
    "print(\"\\n F1:\\n\",f1_score(y_test,lr_pred1))\n",
    "print(\"\\n Precision score is:\\n\",precision_score(y_test,lr_pred1))\n",
    "print(\"\\n Recall score is:\\n\",recall_score(y_test,lr_pred1))\n",
    "print(\"\\n Accuracy score of train is:\\n\",accuracy_score(y_train,lr_pred))\n",
    "print(\"\\n Accuracy score of test :\\n\",accuracy_score(y_test,lr_pred1))"
   ]
  },
  {
   "cell_type": "markdown",
   "id": "8525628b",
   "metadata": {},
   "source": [
    "## RandomForestClassifier"
   ]
  },
  {
   "cell_type": "code",
   "execution_count": 226,
   "id": "a8313f89",
   "metadata": {},
   "outputs": [
    {
     "name": "stdout",
     "output_type": "stream",
     "text": [
      "Random Forest Train Accuracy:  1.0\n",
      "Random Forest Test Accuracy:  0.8058252427184466\n"
     ]
    }
   ],
   "source": [
    "from sklearn.ensemble import RandomForestClassifier\n",
    "\n",
    "# Create a Random Forest classifier\n",
    "rf_classifier = RandomForestClassifier(n_estimators=100, random_state=42)\n",
    "\n",
    "# Fit the model to the training data\n",
    "rf_classifier.fit(X_train, y_train)\n",
    "\n",
    "# Make predictions on the test set\n",
    "y_pred_rf = rf_classifier.predict(X_train)\n",
    "y_pred_rf1 = rf_classifier.predict(X_test)\n",
    "\n",
    "# Calculate accuracy on the test set\n",
    "accuracy_rf = accuracy_score(y_train, y_pred_rf)\n",
    "accuracy_rf1 = accuracy_score(y_test, y_pred_rf1)\n",
    "print(\"Random Forest Train Accuracy: \", accuracy_rf)\n",
    "print(\"Random Forest Test Accuracy: \", accuracy_rf1)\n"
   ]
  },
  {
   "cell_type": "code",
   "execution_count": 229,
   "id": "4e8a0e1e",
   "metadata": {},
   "outputs": [
    {
     "name": "stdout",
     "output_type": "stream",
     "text": [
      "Random Forest Train Accuracy with PCA:  1.0\n",
      "Random Forest Test Accuracy with PCA:  0.7378640776699029\n"
     ]
    }
   ],
   "source": [
    "from sklearn.decomposition import PCA\n",
    "from sklearn.preprocessing import StandardScaler\n",
    "\n",
    "# Assuming X_train and X_test are your feature matrices\n",
    "\n",
    "# Standardize the data (important for PCA)\n",
    "scaler = StandardScaler()\n",
    "X_train_scaled = scaler.fit_transform(X_train)\n",
    "X_test_scaled = scaler.transform(X_test)\n",
    "\n",
    "# Create a PCA instance\n",
    "pca = PCA(n_components=5) \n",
    "# Fit PCA on the training data and transform both training and test data\n",
    "X_train_pca = pca.fit_transform(X_train_scaled)\n",
    "X_test_pca = pca.transform(X_test_scaled)\n",
    "\n",
    "# Now, you can use X_train_pca and X_test_pca as your new feature matrices\n",
    "# Train your classifier (Random Forest) on the transformed data\n",
    "rf_classifier.fit(X_train_pca, y_train)\n",
    "\n",
    "y_pred_rf_pca = rf_classifier.predict(X_train_pca)\n",
    "\n",
    "# Make predictions on the test set\n",
    "y_pred_rf_pca1 = rf_classifier.predict(X_test_pca)\n",
    "\n",
    "# Calculate accuracy on the test set\n",
    "accuracy_rf_pca = accuracy_score(y_train, y_pred_rf_pca)\n",
    "accuracy_rf_pca1 = accuracy_score(y_test, y_pred_rf_pca1)\n",
    "print(\"Random Forest Train Accuracy with PCA: \", accuracy_rf_pca)\n",
    "print(\"Random Forest Test Accuracy with PCA: \", accuracy_rf_pca1)"
   ]
  },
  {
   "cell_type": "markdown",
   "id": "493c1711",
   "metadata": {},
   "source": [
    "## AdaBoostClassifier"
   ]
  },
  {
   "cell_type": "code",
   "execution_count": 233,
   "id": "0989d01a",
   "metadata": {},
   "outputs": [
    {
     "name": "stdout",
     "output_type": "stream",
     "text": [
      "AdaBoost Train Accuracy:  0.7682926829268293\n",
      "AdaBoost Test Accuracy:  0.7669902912621359\n"
     ]
    }
   ],
   "source": [
    "from sklearn.ensemble import AdaBoostClassifier\n",
    "\n",
    "base_model = LogisticRegression()\n",
    "\n",
    "# Create an AdaBoost classifier using the base model\n",
    "adaboost_classifier = AdaBoostClassifier(base_model, n_estimators=50, random_state=42)\n",
    "\n",
    "# Fit the model to the training data\n",
    "adaboost_classifier.fit(X_train, y_train)\n",
    "\n",
    "y_pred_adaboost = adaboost_classifier.predict(X_train)\n",
    "\n",
    "# Make predictions on the test set\n",
    "y_pred_adaboost1 = adaboost_classifier.predict(X_test)\n",
    "\n",
    "accuracy_adaboost = accuracy_score(y_train, y_pred_adaboost)\n",
    "# Calculate accuracy on the test set\n",
    "accuracy_adaboost1 = accuracy_score(y_test, y_pred_adaboost1)\n",
    "\n",
    "print(\"AdaBoost Train Accuracy: \", accuracy_adaboost)\n",
    "print(\"AdaBoost Test Accuracy: \", accuracy_adaboost1)\n"
   ]
  },
  {
   "cell_type": "markdown",
   "id": "2b37a4d0",
   "metadata": {},
   "source": [
    "## GradientBoostingClassifier"
   ]
  },
  {
   "cell_type": "code",
   "execution_count": 342,
   "id": "7686c502",
   "metadata": {},
   "outputs": [
    {
     "name": "stdout",
     "output_type": "stream",
     "text": [
      "Gradient Boosting Train Accuracy:  0.973170731707317\n",
      "Gradient Boosting Test Accuracy:  0.7766990291262136\n"
     ]
    }
   ],
   "source": [
    "from sklearn.ensemble import GradientBoostingClassifier\n",
    "\n",
    "gradient_boosting_classifier = GradientBoostingClassifier(n_estimators=100, learning_rate=0.1, random_state=42)\n",
    "gradient_boosting_classifier.fit(X_train, y_train)\n",
    "\n",
    "y_pred_gradient_boosting = gradient_boosting_classifier.predict(X_train)\n",
    "# Make predictions on the test set\n",
    "y_pred_gradient_boosting1 = gradient_boosting_classifier.predict(X_test)\n",
    "\n",
    "accuracy_gradient_boosting = accuracy_score(y_train, y_pred_gradient_boosting)\n",
    "\n",
    "# Calculate accuracy on the test set\n",
    "accuracy_gradient_boosting1 = accuracy_score(y_test, y_pred_gradient_boosting1)\n",
    "\n",
    "print(\"Gradient Boosting Train Accuracy: \", accuracy_gradient_boosting)\n",
    "print(\"Gradient Boosting Test Accuracy: \", accuracy_gradient_boosting1)"
   ]
  },
  {
   "cell_type": "markdown",
   "id": "71aba7ca",
   "metadata": {},
   "source": [
    "## SMOTE"
   ]
  },
  {
   "cell_type": "code",
   "execution_count": 352,
   "id": "76dc3526",
   "metadata": {},
   "outputs": [],
   "source": [
    "from imblearn.over_sampling import SMOTE\n",
    "\n",
    "S = SMOTE(random_state=42)\n",
    "# Fit and resample the data\n",
    "X_resampled, y_resampled = S.fit_resample(X_train, y_train)"
   ]
  },
  {
   "cell_type": "code",
   "execution_count": 353,
   "id": "59c7a385",
   "metadata": {},
   "outputs": [
    {
     "name": "stdout",
     "output_type": "stream",
     "text": [
      "RANDOM FOREST RESAMPLED TRAIN \n",
      " \n",
      "               precision    recall  f1-score   support\n",
      "\n",
      "           0       1.00      1.00      1.00       298\n",
      "           1       1.00      1.00      1.00       298\n",
      "\n",
      "    accuracy                           1.00       596\n",
      "   macro avg       1.00      1.00      1.00       596\n",
      "weighted avg       1.00      1.00      1.00       596\n",
      "\n"
     ]
    }
   ],
   "source": [
    "RFC = RandomForestClassifier(random_state=42)\n",
    "RFC.fit(X_resampled, y_resampled)\n",
    "train_pred = RFC.predict(X_resampled)\n",
    "print(\"RANDOM FOREST RESAMPLED TRAIN\",\"\\n \\n\",classification_report(y_resampled, train_pred))"
   ]
  },
  {
   "cell_type": "code",
   "execution_count": 355,
   "id": "2c725ade",
   "metadata": {},
   "outputs": [
    {
     "name": "stdout",
     "output_type": "stream",
     "text": [
      "RANDOM FOREST TEST \n",
      " \n",
      "               precision    recall  f1-score   support\n",
      "\n",
      "           0       0.86      0.82      0.84        73\n",
      "           1       0.61      0.67      0.63        30\n",
      "\n",
      "    accuracy                           0.78       103\n",
      "   macro avg       0.73      0.74      0.74       103\n",
      "weighted avg       0.78      0.78      0.78       103\n",
      "\n"
     ]
    }
   ],
   "source": [
    "print(\"RANDOM FOREST TEST\",\"\\n \\n\",classification_report(y_test,RFC.predict(X_test) ))"
   ]
  },
  {
   "cell_type": "code",
   "execution_count": 356,
   "id": "8a4e4ee2",
   "metadata": {},
   "outputs": [
    {
     "name": "stdout",
     "output_type": "stream",
     "text": [
      "ADA BOOST TRAIN \n",
      " \n",
      "               precision    recall  f1-score   support\n",
      "\n",
      "           0       0.91      0.84      0.87       298\n",
      "           1       0.85      0.92      0.88       298\n",
      "\n",
      "    accuracy                           0.88       596\n",
      "   macro avg       0.88      0.88      0.88       596\n",
      "weighted avg       0.88      0.88      0.88       596\n",
      "\n"
     ]
    }
   ],
   "source": [
    "abc = AdaBoostClassifier()\n",
    "abc.fit(X_resampled, y_resampled)\n",
    "train_pred = abc.predict(X_resampled)\n",
    "print(\"ADA BOOST TRAIN\",\"\\n \\n\",classification_report(y_resampled, train_pred))\n"
   ]
  },
  {
   "cell_type": "code",
   "execution_count": 357,
   "id": "47b838d8",
   "metadata": {},
   "outputs": [
    {
     "name": "stdout",
     "output_type": "stream",
     "text": [
      "ADABOOST TEST \n",
      " \n",
      "               precision    recall  f1-score   support\n",
      "\n",
      "           0       0.84      0.73      0.78        73\n",
      "           1       0.50      0.67      0.57        30\n",
      "\n",
      "    accuracy                           0.71       103\n",
      "   macro avg       0.67      0.70      0.68       103\n",
      "weighted avg       0.74      0.71      0.72       103\n",
      "\n"
     ]
    }
   ],
   "source": [
    "print(\"ADABOOST TEST\",\"\\n \\n\",classification_report(y_test,abc.predict(X_test) ))"
   ]
  },
  {
   "cell_type": "code",
   "execution_count": 359,
   "id": "af3bd612",
   "metadata": {},
   "outputs": [
    {
     "name": "stdout",
     "output_type": "stream",
     "text": [
      "Gradient boosting train \n",
      " \n",
      "               precision    recall  f1-score   support\n",
      "\n",
      "           0       0.98      0.94      0.96       298\n",
      "           1       0.94      0.98      0.96       298\n",
      "\n",
      "    accuracy                           0.96       596\n",
      "   macro avg       0.96      0.96      0.96       596\n",
      "weighted avg       0.96      0.96      0.96       596\n",
      "\n"
     ]
    }
   ],
   "source": [
    "gbc = GradientBoostingClassifier(n_estimators=100, random_state=42)\n",
    "gbc.fit(X_resampled, y_resampled)\n",
    "train_pred = gbc.predict(X_resampled)\n",
    "print(\"Gradient boosting train\",\"\\n \\n\",classification_report(y_resampled, train_pred))"
   ]
  },
  {
   "cell_type": "code",
   "execution_count": 360,
   "id": "a328a63b",
   "metadata": {},
   "outputs": [
    {
     "name": "stdout",
     "output_type": "stream",
     "text": [
      "Gradient boosting TEST \n",
      " \n",
      "               precision    recall  f1-score   support\n",
      "\n",
      "           0       0.84      0.81      0.83        73\n",
      "           1       0.58      0.63      0.60        30\n",
      "\n",
      "    accuracy                           0.76       103\n",
      "   macro avg       0.71      0.72      0.71       103\n",
      "weighted avg       0.77      0.76      0.76       103\n",
      "\n"
     ]
    }
   ],
   "source": [
    "print(\"Gradient boosting TEST\",\"\\n \\n\",classification_report(y_test,gbc.predict(X_test) ))"
   ]
  }
 ],
 "metadata": {
  "kernelspec": {
   "display_name": "Python 3 (ipykernel)",
   "language": "python",
   "name": "python3"
  },
  "language_info": {
   "codemirror_mode": {
    "name": "ipython",
    "version": 3
   },
   "file_extension": ".py",
   "mimetype": "text/x-python",
   "name": "python",
   "nbconvert_exporter": "python",
   "pygments_lexer": "ipython3",
   "version": "3.11.3"
  }
 },
 "nbformat": 4,
 "nbformat_minor": 5
}
